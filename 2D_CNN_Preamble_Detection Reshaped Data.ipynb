{
  "cells": [
    {
      "cell_type": "code",
      "execution_count": null,
      "metadata": {
        "id": "D4gqmCnQeZTw"
      },
      "outputs": [],
      "source": [
        "import numpy as np\n",
        "import pandas as pd"
      ]
    },
    {
      "cell_type": "markdown",
      "source": [
        "#Preprocessing"
      ],
      "metadata": {
        "id": "0xuI0BQejTJR"
      }
    },
    {
      "cell_type": "code",
      "execution_count": null,
      "metadata": {
        "id": "TBPGwHqrfjJt"
      },
      "outputs": [],
      "source": [
        "data = pd.read_csv('/content/TRAINING_DATA_1_tx.csv', header = None)"
      ]
    },
    {
      "cell_type": "code",
      "execution_count": null,
      "metadata": {
        "id": "nY55TDaQftWb"
      },
      "outputs": [],
      "source": [
        "labels = pd.read_csv('/content/TRAINING_LABELS_1_tx.csv', header = None)"
      ]
    },
    {
      "cell_type": "code",
      "execution_count": null,
      "metadata": {
        "colab": {
          "base_uri": "https://localhost:8080/",
          "height": 600
        },
        "id": "tIBEkcaqfyEw",
        "outputId": "fadee105-ba4c-4ca4-d5ee-53d29b47e1dd"
      },
      "outputs": [
        {
          "output_type": "execute_result",
          "data": {
            "text/plain": [
              "               0      1                  2      3                  4      \\\n",
              "0    -13.179+5.1756i     -1     10.328+7.6413i     -1     3.6992+0.9595i   \n",
              "1     10.328+7.6413i     -1     3.6992+0.9595i     -1     13.622+13.068i   \n",
              "2     3.6992+0.9595i     -1     13.622+13.068i     -1     9.6015+4.5453i   \n",
              "3     13.622+13.068i     -1     9.6015+4.5453i     -1  0.077811-0.74628i   \n",
              "4     9.6015+4.5453i     -1  0.077811-0.74628i     -1    -6.3644+2.5142i   \n",
              "..               ...    ...                ...    ...                ...   \n",
              "60    12.556-3.5306i     -1     14.069-8.6686i     -1   -2.3358-0.38108i   \n",
              "61    14.069-8.6686i     -1   -2.3358-0.38108i     -1    0.68821-1.4211i   \n",
              "62  -2.3358-0.38108i     -1    0.68821-1.4211i     -1     -2.1566+1.302i   \n",
              "63   0.68821-1.4211i     -1     -2.1566+1.302i     -1     1.5147+6.7256i   \n",
              "64    -2.1566+1.302i     -1     1.5147+6.7256i     -1     -5.227+3.9055i   \n",
              "\n",
              "    5                  6      7                  8      9      ...  \\\n",
              "0      -1     13.622+13.068i     -1     9.6015+4.5453i     -1  ...   \n",
              "1      -1     9.6015+4.5453i     -1  0.077811-0.74628i     -1  ...   \n",
              "2      -1  0.077811-0.74628i     -1    -6.3644+2.5142i     -1  ...   \n",
              "3      -1    -6.3644+2.5142i     -1    -11.786+7.4322i     -1  ...   \n",
              "4      -1    -11.786+7.4322i     -1    0.11502-2.6986i     -1  ...   \n",
              "..    ...                ...    ...                ...    ...  ...   \n",
              "60     -1    0.68821-1.4211i     -1     -2.1566+1.302i     -1  ...   \n",
              "61     -1     -2.1566+1.302i     -1     1.5147+6.7256i     -1  ...   \n",
              "62     -1     1.5147+6.7256i     -1     -5.227+3.9055i     -1  ...   \n",
              "63     -1     -5.227+3.9055i     -1      -12.009+8.85i     -1  ...   \n",
              "64     -1      -12.009+8.85i     -1    0.75301-4.9429i     -1  ...   \n",
              "\n",
              "                  99170  99171                 99172  99173  \\\n",
              "0     0.97016-0.066674i     -1      1.0902+0.018698i     -1   \n",
              "1      1.0902+0.018698i     -1     0.96803+0.001605i     -1   \n",
              "2     0.96803+0.001605i     -1      1.0906+0.010875i     -1   \n",
              "3      1.0906+0.010875i     -1    0.95082-0.0038148i     -1   \n",
              "4    0.95082-0.0038148i     -1       1.1227+0.10657i     -1   \n",
              "..                  ...    ...                   ...    ...   \n",
              "60   -0.035236-0.05625i     -1   -0.039074+0.066002i     -1   \n",
              "61  -0.039074+0.066002i     -1    0.026171-0.097885i     -1   \n",
              "62   0.026171-0.097885i     -1   -0.091632-0.028986i     -1   \n",
              "63  -0.091632-0.028986i     -1     0.14295+0.038964i     -1   \n",
              "64    0.14295+0.038964i     -1  -0.04028-0.00031699i     -1   \n",
              "\n",
              "                   99174  99175                 99176  99177  \\\n",
              "0      0.96803+0.001605i     -1      1.0906+0.010875i     -1   \n",
              "1       1.0906+0.010875i     -1    0.95082-0.0038148i     -1   \n",
              "2     0.95082-0.0038148i     -1       1.1227+0.10657i     -1   \n",
              "3        1.1227+0.10657i     -1        1.022+0.05871i     -1   \n",
              "4         1.022+0.05871i     -1     0.96141-0.074669i     -1   \n",
              "..                   ...    ...                   ...    ...   \n",
              "60    0.026171-0.097885i     -1   -0.091632-0.028986i     -1   \n",
              "61   -0.091632-0.028986i     -1     0.14295+0.038964i     -1   \n",
              "62     0.14295+0.038964i     -1  -0.04028-0.00031699i     -1   \n",
              "63  -0.04028-0.00031699i     -1    -0.02155-0.040095i     -1   \n",
              "64    -0.02155-0.040095i     -1    -0.022348+0.05006i     -1   \n",
              "\n",
              "                   99178  99179  \n",
              "0     0.95082-0.0038148i     -1  \n",
              "1        1.1227+0.10657i     -1  \n",
              "2         1.022+0.05871i     -1  \n",
              "3      0.96141-0.074669i     -1  \n",
              "4       0.97907-0.04319i     -1  \n",
              "..                   ...    ...  \n",
              "60     0.14295+0.038964i     -1  \n",
              "61  -0.04028-0.00031699i     -1  \n",
              "62    -0.02155-0.040095i     -1  \n",
              "63    -0.022348+0.05006i     -1  \n",
              "64    0.081916+0.025759i     -1  \n",
              "\n",
              "[65 rows x 99180 columns]"
            ],
            "text/html": [
              "\n",
              "  <div id=\"df-7d6bb05c-7e55-47d6-b85b-77ae069a1100\" class=\"colab-df-container\">\n",
              "    <div>\n",
              "<style scoped>\n",
              "    .dataframe tbody tr th:only-of-type {\n",
              "        vertical-align: middle;\n",
              "    }\n",
              "\n",
              "    .dataframe tbody tr th {\n",
              "        vertical-align: top;\n",
              "    }\n",
              "\n",
              "    .dataframe thead th {\n",
              "        text-align: right;\n",
              "    }\n",
              "</style>\n",
              "<table border=\"1\" class=\"dataframe\">\n",
              "  <thead>\n",
              "    <tr style=\"text-align: right;\">\n",
              "      <th></th>\n",
              "      <th>0</th>\n",
              "      <th>1</th>\n",
              "      <th>2</th>\n",
              "      <th>3</th>\n",
              "      <th>4</th>\n",
              "      <th>5</th>\n",
              "      <th>6</th>\n",
              "      <th>7</th>\n",
              "      <th>8</th>\n",
              "      <th>9</th>\n",
              "      <th>...</th>\n",
              "      <th>99170</th>\n",
              "      <th>99171</th>\n",
              "      <th>99172</th>\n",
              "      <th>99173</th>\n",
              "      <th>99174</th>\n",
              "      <th>99175</th>\n",
              "      <th>99176</th>\n",
              "      <th>99177</th>\n",
              "      <th>99178</th>\n",
              "      <th>99179</th>\n",
              "    </tr>\n",
              "  </thead>\n",
              "  <tbody>\n",
              "    <tr>\n",
              "      <th>0</th>\n",
              "      <td>-13.179+5.1756i</td>\n",
              "      <td>-1</td>\n",
              "      <td>10.328+7.6413i</td>\n",
              "      <td>-1</td>\n",
              "      <td>3.6992+0.9595i</td>\n",
              "      <td>-1</td>\n",
              "      <td>13.622+13.068i</td>\n",
              "      <td>-1</td>\n",
              "      <td>9.6015+4.5453i</td>\n",
              "      <td>-1</td>\n",
              "      <td>...</td>\n",
              "      <td>0.97016-0.066674i</td>\n",
              "      <td>-1</td>\n",
              "      <td>1.0902+0.018698i</td>\n",
              "      <td>-1</td>\n",
              "      <td>0.96803+0.001605i</td>\n",
              "      <td>-1</td>\n",
              "      <td>1.0906+0.010875i</td>\n",
              "      <td>-1</td>\n",
              "      <td>0.95082-0.0038148i</td>\n",
              "      <td>-1</td>\n",
              "    </tr>\n",
              "    <tr>\n",
              "      <th>1</th>\n",
              "      <td>10.328+7.6413i</td>\n",
              "      <td>-1</td>\n",
              "      <td>3.6992+0.9595i</td>\n",
              "      <td>-1</td>\n",
              "      <td>13.622+13.068i</td>\n",
              "      <td>-1</td>\n",
              "      <td>9.6015+4.5453i</td>\n",
              "      <td>-1</td>\n",
              "      <td>0.077811-0.74628i</td>\n",
              "      <td>-1</td>\n",
              "      <td>...</td>\n",
              "      <td>1.0902+0.018698i</td>\n",
              "      <td>-1</td>\n",
              "      <td>0.96803+0.001605i</td>\n",
              "      <td>-1</td>\n",
              "      <td>1.0906+0.010875i</td>\n",
              "      <td>-1</td>\n",
              "      <td>0.95082-0.0038148i</td>\n",
              "      <td>-1</td>\n",
              "      <td>1.1227+0.10657i</td>\n",
              "      <td>-1</td>\n",
              "    </tr>\n",
              "    <tr>\n",
              "      <th>2</th>\n",
              "      <td>3.6992+0.9595i</td>\n",
              "      <td>-1</td>\n",
              "      <td>13.622+13.068i</td>\n",
              "      <td>-1</td>\n",
              "      <td>9.6015+4.5453i</td>\n",
              "      <td>-1</td>\n",
              "      <td>0.077811-0.74628i</td>\n",
              "      <td>-1</td>\n",
              "      <td>-6.3644+2.5142i</td>\n",
              "      <td>-1</td>\n",
              "      <td>...</td>\n",
              "      <td>0.96803+0.001605i</td>\n",
              "      <td>-1</td>\n",
              "      <td>1.0906+0.010875i</td>\n",
              "      <td>-1</td>\n",
              "      <td>0.95082-0.0038148i</td>\n",
              "      <td>-1</td>\n",
              "      <td>1.1227+0.10657i</td>\n",
              "      <td>-1</td>\n",
              "      <td>1.022+0.05871i</td>\n",
              "      <td>-1</td>\n",
              "    </tr>\n",
              "    <tr>\n",
              "      <th>3</th>\n",
              "      <td>13.622+13.068i</td>\n",
              "      <td>-1</td>\n",
              "      <td>9.6015+4.5453i</td>\n",
              "      <td>-1</td>\n",
              "      <td>0.077811-0.74628i</td>\n",
              "      <td>-1</td>\n",
              "      <td>-6.3644+2.5142i</td>\n",
              "      <td>-1</td>\n",
              "      <td>-11.786+7.4322i</td>\n",
              "      <td>-1</td>\n",
              "      <td>...</td>\n",
              "      <td>1.0906+0.010875i</td>\n",
              "      <td>-1</td>\n",
              "      <td>0.95082-0.0038148i</td>\n",
              "      <td>-1</td>\n",
              "      <td>1.1227+0.10657i</td>\n",
              "      <td>-1</td>\n",
              "      <td>1.022+0.05871i</td>\n",
              "      <td>-1</td>\n",
              "      <td>0.96141-0.074669i</td>\n",
              "      <td>-1</td>\n",
              "    </tr>\n",
              "    <tr>\n",
              "      <th>4</th>\n",
              "      <td>9.6015+4.5453i</td>\n",
              "      <td>-1</td>\n",
              "      <td>0.077811-0.74628i</td>\n",
              "      <td>-1</td>\n",
              "      <td>-6.3644+2.5142i</td>\n",
              "      <td>-1</td>\n",
              "      <td>-11.786+7.4322i</td>\n",
              "      <td>-1</td>\n",
              "      <td>0.11502-2.6986i</td>\n",
              "      <td>-1</td>\n",
              "      <td>...</td>\n",
              "      <td>0.95082-0.0038148i</td>\n",
              "      <td>-1</td>\n",
              "      <td>1.1227+0.10657i</td>\n",
              "      <td>-1</td>\n",
              "      <td>1.022+0.05871i</td>\n",
              "      <td>-1</td>\n",
              "      <td>0.96141-0.074669i</td>\n",
              "      <td>-1</td>\n",
              "      <td>0.97907-0.04319i</td>\n",
              "      <td>-1</td>\n",
              "    </tr>\n",
              "    <tr>\n",
              "      <th>...</th>\n",
              "      <td>...</td>\n",
              "      <td>...</td>\n",
              "      <td>...</td>\n",
              "      <td>...</td>\n",
              "      <td>...</td>\n",
              "      <td>...</td>\n",
              "      <td>...</td>\n",
              "      <td>...</td>\n",
              "      <td>...</td>\n",
              "      <td>...</td>\n",
              "      <td>...</td>\n",
              "      <td>...</td>\n",
              "      <td>...</td>\n",
              "      <td>...</td>\n",
              "      <td>...</td>\n",
              "      <td>...</td>\n",
              "      <td>...</td>\n",
              "      <td>...</td>\n",
              "      <td>...</td>\n",
              "      <td>...</td>\n",
              "      <td>...</td>\n",
              "    </tr>\n",
              "    <tr>\n",
              "      <th>60</th>\n",
              "      <td>12.556-3.5306i</td>\n",
              "      <td>-1</td>\n",
              "      <td>14.069-8.6686i</td>\n",
              "      <td>-1</td>\n",
              "      <td>-2.3358-0.38108i</td>\n",
              "      <td>-1</td>\n",
              "      <td>0.68821-1.4211i</td>\n",
              "      <td>-1</td>\n",
              "      <td>-2.1566+1.302i</td>\n",
              "      <td>-1</td>\n",
              "      <td>...</td>\n",
              "      <td>-0.035236-0.05625i</td>\n",
              "      <td>-1</td>\n",
              "      <td>-0.039074+0.066002i</td>\n",
              "      <td>-1</td>\n",
              "      <td>0.026171-0.097885i</td>\n",
              "      <td>-1</td>\n",
              "      <td>-0.091632-0.028986i</td>\n",
              "      <td>-1</td>\n",
              "      <td>0.14295+0.038964i</td>\n",
              "      <td>-1</td>\n",
              "    </tr>\n",
              "    <tr>\n",
              "      <th>61</th>\n",
              "      <td>14.069-8.6686i</td>\n",
              "      <td>-1</td>\n",
              "      <td>-2.3358-0.38108i</td>\n",
              "      <td>-1</td>\n",
              "      <td>0.68821-1.4211i</td>\n",
              "      <td>-1</td>\n",
              "      <td>-2.1566+1.302i</td>\n",
              "      <td>-1</td>\n",
              "      <td>1.5147+6.7256i</td>\n",
              "      <td>-1</td>\n",
              "      <td>...</td>\n",
              "      <td>-0.039074+0.066002i</td>\n",
              "      <td>-1</td>\n",
              "      <td>0.026171-0.097885i</td>\n",
              "      <td>-1</td>\n",
              "      <td>-0.091632-0.028986i</td>\n",
              "      <td>-1</td>\n",
              "      <td>0.14295+0.038964i</td>\n",
              "      <td>-1</td>\n",
              "      <td>-0.04028-0.00031699i</td>\n",
              "      <td>-1</td>\n",
              "    </tr>\n",
              "    <tr>\n",
              "      <th>62</th>\n",
              "      <td>-2.3358-0.38108i</td>\n",
              "      <td>-1</td>\n",
              "      <td>0.68821-1.4211i</td>\n",
              "      <td>-1</td>\n",
              "      <td>-2.1566+1.302i</td>\n",
              "      <td>-1</td>\n",
              "      <td>1.5147+6.7256i</td>\n",
              "      <td>-1</td>\n",
              "      <td>-5.227+3.9055i</td>\n",
              "      <td>-1</td>\n",
              "      <td>...</td>\n",
              "      <td>0.026171-0.097885i</td>\n",
              "      <td>-1</td>\n",
              "      <td>-0.091632-0.028986i</td>\n",
              "      <td>-1</td>\n",
              "      <td>0.14295+0.038964i</td>\n",
              "      <td>-1</td>\n",
              "      <td>-0.04028-0.00031699i</td>\n",
              "      <td>-1</td>\n",
              "      <td>-0.02155-0.040095i</td>\n",
              "      <td>-1</td>\n",
              "    </tr>\n",
              "    <tr>\n",
              "      <th>63</th>\n",
              "      <td>0.68821-1.4211i</td>\n",
              "      <td>-1</td>\n",
              "      <td>-2.1566+1.302i</td>\n",
              "      <td>-1</td>\n",
              "      <td>1.5147+6.7256i</td>\n",
              "      <td>-1</td>\n",
              "      <td>-5.227+3.9055i</td>\n",
              "      <td>-1</td>\n",
              "      <td>-12.009+8.85i</td>\n",
              "      <td>-1</td>\n",
              "      <td>...</td>\n",
              "      <td>-0.091632-0.028986i</td>\n",
              "      <td>-1</td>\n",
              "      <td>0.14295+0.038964i</td>\n",
              "      <td>-1</td>\n",
              "      <td>-0.04028-0.00031699i</td>\n",
              "      <td>-1</td>\n",
              "      <td>-0.02155-0.040095i</td>\n",
              "      <td>-1</td>\n",
              "      <td>-0.022348+0.05006i</td>\n",
              "      <td>-1</td>\n",
              "    </tr>\n",
              "    <tr>\n",
              "      <th>64</th>\n",
              "      <td>-2.1566+1.302i</td>\n",
              "      <td>-1</td>\n",
              "      <td>1.5147+6.7256i</td>\n",
              "      <td>-1</td>\n",
              "      <td>-5.227+3.9055i</td>\n",
              "      <td>-1</td>\n",
              "      <td>-12.009+8.85i</td>\n",
              "      <td>-1</td>\n",
              "      <td>0.75301-4.9429i</td>\n",
              "      <td>-1</td>\n",
              "      <td>...</td>\n",
              "      <td>0.14295+0.038964i</td>\n",
              "      <td>-1</td>\n",
              "      <td>-0.04028-0.00031699i</td>\n",
              "      <td>-1</td>\n",
              "      <td>-0.02155-0.040095i</td>\n",
              "      <td>-1</td>\n",
              "      <td>-0.022348+0.05006i</td>\n",
              "      <td>-1</td>\n",
              "      <td>0.081916+0.025759i</td>\n",
              "      <td>-1</td>\n",
              "    </tr>\n",
              "  </tbody>\n",
              "</table>\n",
              "<p>65 rows × 99180 columns</p>\n",
              "</div>\n",
              "    <div class=\"colab-df-buttons\">\n",
              "\n",
              "  <div class=\"colab-df-container\">\n",
              "    <button class=\"colab-df-convert\" onclick=\"convertToInteractive('df-7d6bb05c-7e55-47d6-b85b-77ae069a1100')\"\n",
              "            title=\"Convert this dataframe to an interactive table.\"\n",
              "            style=\"display:none;\">\n",
              "\n",
              "  <svg xmlns=\"http://www.w3.org/2000/svg\" height=\"24px\" viewBox=\"0 -960 960 960\">\n",
              "    <path d=\"M120-120v-720h720v720H120Zm60-500h600v-160H180v160Zm220 220h160v-160H400v160Zm0 220h160v-160H400v160ZM180-400h160v-160H180v160Zm440 0h160v-160H620v160ZM180-180h160v-160H180v160Zm440 0h160v-160H620v160Z\"/>\n",
              "  </svg>\n",
              "    </button>\n",
              "\n",
              "  <style>\n",
              "    .colab-df-container {\n",
              "      display:flex;\n",
              "      gap: 12px;\n",
              "    }\n",
              "\n",
              "    .colab-df-convert {\n",
              "      background-color: #E8F0FE;\n",
              "      border: none;\n",
              "      border-radius: 50%;\n",
              "      cursor: pointer;\n",
              "      display: none;\n",
              "      fill: #1967D2;\n",
              "      height: 32px;\n",
              "      padding: 0 0 0 0;\n",
              "      width: 32px;\n",
              "    }\n",
              "\n",
              "    .colab-df-convert:hover {\n",
              "      background-color: #E2EBFA;\n",
              "      box-shadow: 0px 1px 2px rgba(60, 64, 67, 0.3), 0px 1px 3px 1px rgba(60, 64, 67, 0.15);\n",
              "      fill: #174EA6;\n",
              "    }\n",
              "\n",
              "    .colab-df-buttons div {\n",
              "      margin-bottom: 4px;\n",
              "    }\n",
              "\n",
              "    [theme=dark] .colab-df-convert {\n",
              "      background-color: #3B4455;\n",
              "      fill: #D2E3FC;\n",
              "    }\n",
              "\n",
              "    [theme=dark] .colab-df-convert:hover {\n",
              "      background-color: #434B5C;\n",
              "      box-shadow: 0px 1px 3px 1px rgba(0, 0, 0, 0.15);\n",
              "      filter: drop-shadow(0px 1px 2px rgba(0, 0, 0, 0.3));\n",
              "      fill: #FFFFFF;\n",
              "    }\n",
              "  </style>\n",
              "\n",
              "    <script>\n",
              "      const buttonEl =\n",
              "        document.querySelector('#df-7d6bb05c-7e55-47d6-b85b-77ae069a1100 button.colab-df-convert');\n",
              "      buttonEl.style.display =\n",
              "        google.colab.kernel.accessAllowed ? 'block' : 'none';\n",
              "\n",
              "      async function convertToInteractive(key) {\n",
              "        const element = document.querySelector('#df-7d6bb05c-7e55-47d6-b85b-77ae069a1100');\n",
              "        const dataTable =\n",
              "          await google.colab.kernel.invokeFunction('convertToInteractive',\n",
              "                                                    [key], {});\n",
              "        if (!dataTable) return;\n",
              "\n",
              "        const docLinkHtml = 'Like what you see? Visit the ' +\n",
              "          '<a target=\"_blank\" href=https://colab.research.google.com/notebooks/data_table.ipynb>data table notebook</a>'\n",
              "          + ' to learn more about interactive tables.';\n",
              "        element.innerHTML = '';\n",
              "        dataTable['output_type'] = 'display_data';\n",
              "        await google.colab.output.renderOutput(dataTable, element);\n",
              "        const docLink = document.createElement('div');\n",
              "        docLink.innerHTML = docLinkHtml;\n",
              "        element.appendChild(docLink);\n",
              "      }\n",
              "    </script>\n",
              "  </div>\n",
              "\n",
              "\n",
              "<div id=\"df-828c9e57-2fb3-49db-9a58-1428f11f3687\">\n",
              "  <button class=\"colab-df-quickchart\" onclick=\"quickchart('df-828c9e57-2fb3-49db-9a58-1428f11f3687')\"\n",
              "            title=\"Suggest charts\"\n",
              "            style=\"display:none;\">\n",
              "\n",
              "<svg xmlns=\"http://www.w3.org/2000/svg\" height=\"24px\"viewBox=\"0 0 24 24\"\n",
              "     width=\"24px\">\n",
              "    <g>\n",
              "        <path d=\"M19 3H5c-1.1 0-2 .9-2 2v14c0 1.1.9 2 2 2h14c1.1 0 2-.9 2-2V5c0-1.1-.9-2-2-2zM9 17H7v-7h2v7zm4 0h-2V7h2v10zm4 0h-2v-4h2v4z\"/>\n",
              "    </g>\n",
              "</svg>\n",
              "  </button>\n",
              "\n",
              "<style>\n",
              "  .colab-df-quickchart {\n",
              "      --bg-color: #E8F0FE;\n",
              "      --fill-color: #1967D2;\n",
              "      --hover-bg-color: #E2EBFA;\n",
              "      --hover-fill-color: #174EA6;\n",
              "      --disabled-fill-color: #AAA;\n",
              "      --disabled-bg-color: #DDD;\n",
              "  }\n",
              "\n",
              "  [theme=dark] .colab-df-quickchart {\n",
              "      --bg-color: #3B4455;\n",
              "      --fill-color: #D2E3FC;\n",
              "      --hover-bg-color: #434B5C;\n",
              "      --hover-fill-color: #FFFFFF;\n",
              "      --disabled-bg-color: #3B4455;\n",
              "      --disabled-fill-color: #666;\n",
              "  }\n",
              "\n",
              "  .colab-df-quickchart {\n",
              "    background-color: var(--bg-color);\n",
              "    border: none;\n",
              "    border-radius: 50%;\n",
              "    cursor: pointer;\n",
              "    display: none;\n",
              "    fill: var(--fill-color);\n",
              "    height: 32px;\n",
              "    padding: 0;\n",
              "    width: 32px;\n",
              "  }\n",
              "\n",
              "  .colab-df-quickchart:hover {\n",
              "    background-color: var(--hover-bg-color);\n",
              "    box-shadow: 0 1px 2px rgba(60, 64, 67, 0.3), 0 1px 3px 1px rgba(60, 64, 67, 0.15);\n",
              "    fill: var(--button-hover-fill-color);\n",
              "  }\n",
              "\n",
              "  .colab-df-quickchart-complete:disabled,\n",
              "  .colab-df-quickchart-complete:disabled:hover {\n",
              "    background-color: var(--disabled-bg-color);\n",
              "    fill: var(--disabled-fill-color);\n",
              "    box-shadow: none;\n",
              "  }\n",
              "\n",
              "  .colab-df-spinner {\n",
              "    border: 2px solid var(--fill-color);\n",
              "    border-color: transparent;\n",
              "    border-bottom-color: var(--fill-color);\n",
              "    animation:\n",
              "      spin 1s steps(1) infinite;\n",
              "  }\n",
              "\n",
              "  @keyframes spin {\n",
              "    0% {\n",
              "      border-color: transparent;\n",
              "      border-bottom-color: var(--fill-color);\n",
              "      border-left-color: var(--fill-color);\n",
              "    }\n",
              "    20% {\n",
              "      border-color: transparent;\n",
              "      border-left-color: var(--fill-color);\n",
              "      border-top-color: var(--fill-color);\n",
              "    }\n",
              "    30% {\n",
              "      border-color: transparent;\n",
              "      border-left-color: var(--fill-color);\n",
              "      border-top-color: var(--fill-color);\n",
              "      border-right-color: var(--fill-color);\n",
              "    }\n",
              "    40% {\n",
              "      border-color: transparent;\n",
              "      border-right-color: var(--fill-color);\n",
              "      border-top-color: var(--fill-color);\n",
              "    }\n",
              "    60% {\n",
              "      border-color: transparent;\n",
              "      border-right-color: var(--fill-color);\n",
              "    }\n",
              "    80% {\n",
              "      border-color: transparent;\n",
              "      border-right-color: var(--fill-color);\n",
              "      border-bottom-color: var(--fill-color);\n",
              "    }\n",
              "    90% {\n",
              "      border-color: transparent;\n",
              "      border-bottom-color: var(--fill-color);\n",
              "    }\n",
              "  }\n",
              "</style>\n",
              "\n",
              "  <script>\n",
              "    async function quickchart(key) {\n",
              "      const quickchartButtonEl =\n",
              "        document.querySelector('#' + key + ' button');\n",
              "      quickchartButtonEl.disabled = true;  // To prevent multiple clicks.\n",
              "      quickchartButtonEl.classList.add('colab-df-spinner');\n",
              "      try {\n",
              "        const charts = await google.colab.kernel.invokeFunction(\n",
              "            'suggestCharts', [key], {});\n",
              "      } catch (error) {\n",
              "        console.error('Error during call to suggestCharts:', error);\n",
              "      }\n",
              "      quickchartButtonEl.classList.remove('colab-df-spinner');\n",
              "      quickchartButtonEl.classList.add('colab-df-quickchart-complete');\n",
              "    }\n",
              "    (() => {\n",
              "      let quickchartButtonEl =\n",
              "        document.querySelector('#df-828c9e57-2fb3-49db-9a58-1428f11f3687 button');\n",
              "      quickchartButtonEl.style.display =\n",
              "        google.colab.kernel.accessAllowed ? 'block' : 'none';\n",
              "    })();\n",
              "  </script>\n",
              "</div>\n",
              "    </div>\n",
              "  </div>\n"
            ]
          },
          "metadata": {},
          "execution_count": 4
        }
      ],
      "source": [
        "data"
      ]
    },
    {
      "cell_type": "code",
      "execution_count": null,
      "metadata": {
        "colab": {
          "base_uri": "https://localhost:8080/",
          "height": 110
        },
        "id": "o7PRSpkefy_q",
        "outputId": "2758c86a-ebe3-4f80-9c8c-c0ca581411d3"
      },
      "outputs": [
        {
          "output_type": "execute_result",
          "data": {
            "text/plain": [
              "   0      1      2      3      4      5      6      7      8      9      ...  \\\n",
              "0      0      0      0      0      0      0      0      0      0      0  ...   \n",
              "\n",
              "   49580  49581  49582  49583  49584  49585  49586  49587  49588  49589  \n",
              "0      0      0      0      0      0      0      0      0      0      0  \n",
              "\n",
              "[1 rows x 49590 columns]"
            ],
            "text/html": [
              "\n",
              "  <div id=\"df-d6cfae8b-5622-4ced-8475-8bb0f0091003\" class=\"colab-df-container\">\n",
              "    <div>\n",
              "<style scoped>\n",
              "    .dataframe tbody tr th:only-of-type {\n",
              "        vertical-align: middle;\n",
              "    }\n",
              "\n",
              "    .dataframe tbody tr th {\n",
              "        vertical-align: top;\n",
              "    }\n",
              "\n",
              "    .dataframe thead th {\n",
              "        text-align: right;\n",
              "    }\n",
              "</style>\n",
              "<table border=\"1\" class=\"dataframe\">\n",
              "  <thead>\n",
              "    <tr style=\"text-align: right;\">\n",
              "      <th></th>\n",
              "      <th>0</th>\n",
              "      <th>1</th>\n",
              "      <th>2</th>\n",
              "      <th>3</th>\n",
              "      <th>4</th>\n",
              "      <th>5</th>\n",
              "      <th>6</th>\n",
              "      <th>7</th>\n",
              "      <th>8</th>\n",
              "      <th>9</th>\n",
              "      <th>...</th>\n",
              "      <th>49580</th>\n",
              "      <th>49581</th>\n",
              "      <th>49582</th>\n",
              "      <th>49583</th>\n",
              "      <th>49584</th>\n",
              "      <th>49585</th>\n",
              "      <th>49586</th>\n",
              "      <th>49587</th>\n",
              "      <th>49588</th>\n",
              "      <th>49589</th>\n",
              "    </tr>\n",
              "  </thead>\n",
              "  <tbody>\n",
              "    <tr>\n",
              "      <th>0</th>\n",
              "      <td>0</td>\n",
              "      <td>0</td>\n",
              "      <td>0</td>\n",
              "      <td>0</td>\n",
              "      <td>0</td>\n",
              "      <td>0</td>\n",
              "      <td>0</td>\n",
              "      <td>0</td>\n",
              "      <td>0</td>\n",
              "      <td>0</td>\n",
              "      <td>...</td>\n",
              "      <td>0</td>\n",
              "      <td>0</td>\n",
              "      <td>0</td>\n",
              "      <td>0</td>\n",
              "      <td>0</td>\n",
              "      <td>0</td>\n",
              "      <td>0</td>\n",
              "      <td>0</td>\n",
              "      <td>0</td>\n",
              "      <td>0</td>\n",
              "    </tr>\n",
              "  </tbody>\n",
              "</table>\n",
              "<p>1 rows × 49590 columns</p>\n",
              "</div>\n",
              "    <div class=\"colab-df-buttons\">\n",
              "\n",
              "  <div class=\"colab-df-container\">\n",
              "    <button class=\"colab-df-convert\" onclick=\"convertToInteractive('df-d6cfae8b-5622-4ced-8475-8bb0f0091003')\"\n",
              "            title=\"Convert this dataframe to an interactive table.\"\n",
              "            style=\"display:none;\">\n",
              "\n",
              "  <svg xmlns=\"http://www.w3.org/2000/svg\" height=\"24px\" viewBox=\"0 -960 960 960\">\n",
              "    <path d=\"M120-120v-720h720v720H120Zm60-500h600v-160H180v160Zm220 220h160v-160H400v160Zm0 220h160v-160H400v160ZM180-400h160v-160H180v160Zm440 0h160v-160H620v160ZM180-180h160v-160H180v160Zm440 0h160v-160H620v160Z\"/>\n",
              "  </svg>\n",
              "    </button>\n",
              "\n",
              "  <style>\n",
              "    .colab-df-container {\n",
              "      display:flex;\n",
              "      gap: 12px;\n",
              "    }\n",
              "\n",
              "    .colab-df-convert {\n",
              "      background-color: #E8F0FE;\n",
              "      border: none;\n",
              "      border-radius: 50%;\n",
              "      cursor: pointer;\n",
              "      display: none;\n",
              "      fill: #1967D2;\n",
              "      height: 32px;\n",
              "      padding: 0 0 0 0;\n",
              "      width: 32px;\n",
              "    }\n",
              "\n",
              "    .colab-df-convert:hover {\n",
              "      background-color: #E2EBFA;\n",
              "      box-shadow: 0px 1px 2px rgba(60, 64, 67, 0.3), 0px 1px 3px 1px rgba(60, 64, 67, 0.15);\n",
              "      fill: #174EA6;\n",
              "    }\n",
              "\n",
              "    .colab-df-buttons div {\n",
              "      margin-bottom: 4px;\n",
              "    }\n",
              "\n",
              "    [theme=dark] .colab-df-convert {\n",
              "      background-color: #3B4455;\n",
              "      fill: #D2E3FC;\n",
              "    }\n",
              "\n",
              "    [theme=dark] .colab-df-convert:hover {\n",
              "      background-color: #434B5C;\n",
              "      box-shadow: 0px 1px 3px 1px rgba(0, 0, 0, 0.15);\n",
              "      filter: drop-shadow(0px 1px 2px rgba(0, 0, 0, 0.3));\n",
              "      fill: #FFFFFF;\n",
              "    }\n",
              "  </style>\n",
              "\n",
              "    <script>\n",
              "      const buttonEl =\n",
              "        document.querySelector('#df-d6cfae8b-5622-4ced-8475-8bb0f0091003 button.colab-df-convert');\n",
              "      buttonEl.style.display =\n",
              "        google.colab.kernel.accessAllowed ? 'block' : 'none';\n",
              "\n",
              "      async function convertToInteractive(key) {\n",
              "        const element = document.querySelector('#df-d6cfae8b-5622-4ced-8475-8bb0f0091003');\n",
              "        const dataTable =\n",
              "          await google.colab.kernel.invokeFunction('convertToInteractive',\n",
              "                                                    [key], {});\n",
              "        if (!dataTable) return;\n",
              "\n",
              "        const docLinkHtml = 'Like what you see? Visit the ' +\n",
              "          '<a target=\"_blank\" href=https://colab.research.google.com/notebooks/data_table.ipynb>data table notebook</a>'\n",
              "          + ' to learn more about interactive tables.';\n",
              "        element.innerHTML = '';\n",
              "        dataTable['output_type'] = 'display_data';\n",
              "        await google.colab.output.renderOutput(dataTable, element);\n",
              "        const docLink = document.createElement('div');\n",
              "        docLink.innerHTML = docLinkHtml;\n",
              "        element.appendChild(docLink);\n",
              "      }\n",
              "    </script>\n",
              "  </div>\n",
              "\n",
              "    </div>\n",
              "  </div>\n"
            ]
          },
          "metadata": {},
          "execution_count": 5
        }
      ],
      "source": [
        "labels"
      ]
    },
    {
      "cell_type": "code",
      "execution_count": null,
      "metadata": {
        "colab": {
          "base_uri": "https://localhost:8080/"
        },
        "id": "hXJp0ZCDfz7f",
        "outputId": "96d3d627-4f61-48e2-9fbc-785049f80e04"
      },
      "outputs": [
        {
          "output_type": "execute_result",
          "data": {
            "text/plain": [
              "(65, 99180)"
            ]
          },
          "metadata": {},
          "execution_count": 6
        }
      ],
      "source": [
        "data.shape"
      ]
    },
    {
      "cell_type": "code",
      "execution_count": null,
      "metadata": {
        "id": "sue__jBsf3A9"
      },
      "outputs": [],
      "source": [
        "data_real = pd.read_csv('/content/RealPart.csv', header=None)"
      ]
    },
    {
      "cell_type": "code",
      "execution_count": null,
      "metadata": {
        "colab": {
          "base_uri": "https://localhost:8080/",
          "height": 424
        },
        "id": "n61BQ6HHSSQd",
        "outputId": "7a050409-508d-42e0-fc30-02e876587db2"
      },
      "outputs": [
        {
          "output_type": "execute_result",
          "data": {
            "text/plain": [
              "       0      1          2      3          4      5          6      7      \\\n",
              "0  -13.17900     -1  10.328000     -1   3.699200     -1  13.622000     -1   \n",
              "1   10.32800     -1   3.699200     -1  13.622000     -1   9.601500     -1   \n",
              "2    3.69920     -1  13.622000     -1   9.601500     -1   0.077811     -1   \n",
              "3   13.62200     -1   9.601500     -1   0.077811     -1  -6.364400     -1   \n",
              "4    9.60150     -1   0.077811     -1  -6.364400     -1 -11.786000     -1   \n",
              "..       ...    ...        ...    ...        ...    ...        ...    ...   \n",
              "60  12.55600     -1  14.069000     -1  -2.335800     -1   0.688210     -1   \n",
              "61  14.06900     -1  -2.335800     -1   0.688210     -1  -2.156600     -1   \n",
              "62  -2.33580     -1   0.688210     -1  -2.156600     -1   1.514700     -1   \n",
              "63   0.68821     -1  -2.156600     -1   1.514700     -1  -5.227000     -1   \n",
              "64  -2.15660     -1   1.514700     -1  -5.227000     -1 -12.009000     -1   \n",
              "\n",
              "        8      9      ...     99170  99171     99172  99173     99174  99175  \\\n",
              "0    9.601500     -1  ...  0.970160     -1  1.090200     -1  0.968030     -1   \n",
              "1    0.077811     -1  ...  1.090200     -1  0.968030     -1  1.090600     -1   \n",
              "2   -6.364400     -1  ...  0.968030     -1  1.090600     -1  0.950820     -1   \n",
              "3  -11.786000     -1  ...  1.090600     -1  0.950820     -1  1.122700     -1   \n",
              "4    0.115020     -1  ...  0.950820     -1  1.122700     -1  1.022000     -1   \n",
              "..        ...    ...  ...       ...    ...       ...    ...       ...    ...   \n",
              "60  -2.156600     -1  ... -0.035236     -1 -0.039074     -1  0.026171     -1   \n",
              "61   1.514700     -1  ... -0.039074     -1  0.026171     -1 -0.091632     -1   \n",
              "62  -5.227000     -1  ...  0.026171     -1 -0.091632     -1  0.142950     -1   \n",
              "63 -12.009000     -1  ... -0.091632     -1  0.142950     -1 -0.040280     -1   \n",
              "64   0.753010     -1  ...  0.142950     -1 -0.040280     -1 -0.021550     -1   \n",
              "\n",
              "       99176  99177     99178  99179  \n",
              "0   1.090600     -1  0.950820     -1  \n",
              "1   0.950820     -1  1.122700     -1  \n",
              "2   1.122700     -1  1.022000     -1  \n",
              "3   1.022000     -1  0.961410     -1  \n",
              "4   0.961410     -1  0.979070     -1  \n",
              "..       ...    ...       ...    ...  \n",
              "60 -0.091632     -1  0.142950     -1  \n",
              "61  0.142950     -1 -0.040280     -1  \n",
              "62 -0.040280     -1 -0.021550     -1  \n",
              "63 -0.021550     -1 -0.022348     -1  \n",
              "64 -0.022348     -1  0.081916     -1  \n",
              "\n",
              "[65 rows x 99180 columns]"
            ],
            "text/html": [
              "\n",
              "  <div id=\"df-2e950a6b-ed82-446a-8306-90f099c68eb5\" class=\"colab-df-container\">\n",
              "    <div>\n",
              "<style scoped>\n",
              "    .dataframe tbody tr th:only-of-type {\n",
              "        vertical-align: middle;\n",
              "    }\n",
              "\n",
              "    .dataframe tbody tr th {\n",
              "        vertical-align: top;\n",
              "    }\n",
              "\n",
              "    .dataframe thead th {\n",
              "        text-align: right;\n",
              "    }\n",
              "</style>\n",
              "<table border=\"1\" class=\"dataframe\">\n",
              "  <thead>\n",
              "    <tr style=\"text-align: right;\">\n",
              "      <th></th>\n",
              "      <th>0</th>\n",
              "      <th>1</th>\n",
              "      <th>2</th>\n",
              "      <th>3</th>\n",
              "      <th>4</th>\n",
              "      <th>5</th>\n",
              "      <th>6</th>\n",
              "      <th>7</th>\n",
              "      <th>8</th>\n",
              "      <th>9</th>\n",
              "      <th>...</th>\n",
              "      <th>99170</th>\n",
              "      <th>99171</th>\n",
              "      <th>99172</th>\n",
              "      <th>99173</th>\n",
              "      <th>99174</th>\n",
              "      <th>99175</th>\n",
              "      <th>99176</th>\n",
              "      <th>99177</th>\n",
              "      <th>99178</th>\n",
              "      <th>99179</th>\n",
              "    </tr>\n",
              "  </thead>\n",
              "  <tbody>\n",
              "    <tr>\n",
              "      <th>0</th>\n",
              "      <td>-13.17900</td>\n",
              "      <td>-1</td>\n",
              "      <td>10.328000</td>\n",
              "      <td>-1</td>\n",
              "      <td>3.699200</td>\n",
              "      <td>-1</td>\n",
              "      <td>13.622000</td>\n",
              "      <td>-1</td>\n",
              "      <td>9.601500</td>\n",
              "      <td>-1</td>\n",
              "      <td>...</td>\n",
              "      <td>0.970160</td>\n",
              "      <td>-1</td>\n",
              "      <td>1.090200</td>\n",
              "      <td>-1</td>\n",
              "      <td>0.968030</td>\n",
              "      <td>-1</td>\n",
              "      <td>1.090600</td>\n",
              "      <td>-1</td>\n",
              "      <td>0.950820</td>\n",
              "      <td>-1</td>\n",
              "    </tr>\n",
              "    <tr>\n",
              "      <th>1</th>\n",
              "      <td>10.32800</td>\n",
              "      <td>-1</td>\n",
              "      <td>3.699200</td>\n",
              "      <td>-1</td>\n",
              "      <td>13.622000</td>\n",
              "      <td>-1</td>\n",
              "      <td>9.601500</td>\n",
              "      <td>-1</td>\n",
              "      <td>0.077811</td>\n",
              "      <td>-1</td>\n",
              "      <td>...</td>\n",
              "      <td>1.090200</td>\n",
              "      <td>-1</td>\n",
              "      <td>0.968030</td>\n",
              "      <td>-1</td>\n",
              "      <td>1.090600</td>\n",
              "      <td>-1</td>\n",
              "      <td>0.950820</td>\n",
              "      <td>-1</td>\n",
              "      <td>1.122700</td>\n",
              "      <td>-1</td>\n",
              "    </tr>\n",
              "    <tr>\n",
              "      <th>2</th>\n",
              "      <td>3.69920</td>\n",
              "      <td>-1</td>\n",
              "      <td>13.622000</td>\n",
              "      <td>-1</td>\n",
              "      <td>9.601500</td>\n",
              "      <td>-1</td>\n",
              "      <td>0.077811</td>\n",
              "      <td>-1</td>\n",
              "      <td>-6.364400</td>\n",
              "      <td>-1</td>\n",
              "      <td>...</td>\n",
              "      <td>0.968030</td>\n",
              "      <td>-1</td>\n",
              "      <td>1.090600</td>\n",
              "      <td>-1</td>\n",
              "      <td>0.950820</td>\n",
              "      <td>-1</td>\n",
              "      <td>1.122700</td>\n",
              "      <td>-1</td>\n",
              "      <td>1.022000</td>\n",
              "      <td>-1</td>\n",
              "    </tr>\n",
              "    <tr>\n",
              "      <th>3</th>\n",
              "      <td>13.62200</td>\n",
              "      <td>-1</td>\n",
              "      <td>9.601500</td>\n",
              "      <td>-1</td>\n",
              "      <td>0.077811</td>\n",
              "      <td>-1</td>\n",
              "      <td>-6.364400</td>\n",
              "      <td>-1</td>\n",
              "      <td>-11.786000</td>\n",
              "      <td>-1</td>\n",
              "      <td>...</td>\n",
              "      <td>1.090600</td>\n",
              "      <td>-1</td>\n",
              "      <td>0.950820</td>\n",
              "      <td>-1</td>\n",
              "      <td>1.122700</td>\n",
              "      <td>-1</td>\n",
              "      <td>1.022000</td>\n",
              "      <td>-1</td>\n",
              "      <td>0.961410</td>\n",
              "      <td>-1</td>\n",
              "    </tr>\n",
              "    <tr>\n",
              "      <th>4</th>\n",
              "      <td>9.60150</td>\n",
              "      <td>-1</td>\n",
              "      <td>0.077811</td>\n",
              "      <td>-1</td>\n",
              "      <td>-6.364400</td>\n",
              "      <td>-1</td>\n",
              "      <td>-11.786000</td>\n",
              "      <td>-1</td>\n",
              "      <td>0.115020</td>\n",
              "      <td>-1</td>\n",
              "      <td>...</td>\n",
              "      <td>0.950820</td>\n",
              "      <td>-1</td>\n",
              "      <td>1.122700</td>\n",
              "      <td>-1</td>\n",
              "      <td>1.022000</td>\n",
              "      <td>-1</td>\n",
              "      <td>0.961410</td>\n",
              "      <td>-1</td>\n",
              "      <td>0.979070</td>\n",
              "      <td>-1</td>\n",
              "    </tr>\n",
              "    <tr>\n",
              "      <th>...</th>\n",
              "      <td>...</td>\n",
              "      <td>...</td>\n",
              "      <td>...</td>\n",
              "      <td>...</td>\n",
              "      <td>...</td>\n",
              "      <td>...</td>\n",
              "      <td>...</td>\n",
              "      <td>...</td>\n",
              "      <td>...</td>\n",
              "      <td>...</td>\n",
              "      <td>...</td>\n",
              "      <td>...</td>\n",
              "      <td>...</td>\n",
              "      <td>...</td>\n",
              "      <td>...</td>\n",
              "      <td>...</td>\n",
              "      <td>...</td>\n",
              "      <td>...</td>\n",
              "      <td>...</td>\n",
              "      <td>...</td>\n",
              "      <td>...</td>\n",
              "    </tr>\n",
              "    <tr>\n",
              "      <th>60</th>\n",
              "      <td>12.55600</td>\n",
              "      <td>-1</td>\n",
              "      <td>14.069000</td>\n",
              "      <td>-1</td>\n",
              "      <td>-2.335800</td>\n",
              "      <td>-1</td>\n",
              "      <td>0.688210</td>\n",
              "      <td>-1</td>\n",
              "      <td>-2.156600</td>\n",
              "      <td>-1</td>\n",
              "      <td>...</td>\n",
              "      <td>-0.035236</td>\n",
              "      <td>-1</td>\n",
              "      <td>-0.039074</td>\n",
              "      <td>-1</td>\n",
              "      <td>0.026171</td>\n",
              "      <td>-1</td>\n",
              "      <td>-0.091632</td>\n",
              "      <td>-1</td>\n",
              "      <td>0.142950</td>\n",
              "      <td>-1</td>\n",
              "    </tr>\n",
              "    <tr>\n",
              "      <th>61</th>\n",
              "      <td>14.06900</td>\n",
              "      <td>-1</td>\n",
              "      <td>-2.335800</td>\n",
              "      <td>-1</td>\n",
              "      <td>0.688210</td>\n",
              "      <td>-1</td>\n",
              "      <td>-2.156600</td>\n",
              "      <td>-1</td>\n",
              "      <td>1.514700</td>\n",
              "      <td>-1</td>\n",
              "      <td>...</td>\n",
              "      <td>-0.039074</td>\n",
              "      <td>-1</td>\n",
              "      <td>0.026171</td>\n",
              "      <td>-1</td>\n",
              "      <td>-0.091632</td>\n",
              "      <td>-1</td>\n",
              "      <td>0.142950</td>\n",
              "      <td>-1</td>\n",
              "      <td>-0.040280</td>\n",
              "      <td>-1</td>\n",
              "    </tr>\n",
              "    <tr>\n",
              "      <th>62</th>\n",
              "      <td>-2.33580</td>\n",
              "      <td>-1</td>\n",
              "      <td>0.688210</td>\n",
              "      <td>-1</td>\n",
              "      <td>-2.156600</td>\n",
              "      <td>-1</td>\n",
              "      <td>1.514700</td>\n",
              "      <td>-1</td>\n",
              "      <td>-5.227000</td>\n",
              "      <td>-1</td>\n",
              "      <td>...</td>\n",
              "      <td>0.026171</td>\n",
              "      <td>-1</td>\n",
              "      <td>-0.091632</td>\n",
              "      <td>-1</td>\n",
              "      <td>0.142950</td>\n",
              "      <td>-1</td>\n",
              "      <td>-0.040280</td>\n",
              "      <td>-1</td>\n",
              "      <td>-0.021550</td>\n",
              "      <td>-1</td>\n",
              "    </tr>\n",
              "    <tr>\n",
              "      <th>63</th>\n",
              "      <td>0.68821</td>\n",
              "      <td>-1</td>\n",
              "      <td>-2.156600</td>\n",
              "      <td>-1</td>\n",
              "      <td>1.514700</td>\n",
              "      <td>-1</td>\n",
              "      <td>-5.227000</td>\n",
              "      <td>-1</td>\n",
              "      <td>-12.009000</td>\n",
              "      <td>-1</td>\n",
              "      <td>...</td>\n",
              "      <td>-0.091632</td>\n",
              "      <td>-1</td>\n",
              "      <td>0.142950</td>\n",
              "      <td>-1</td>\n",
              "      <td>-0.040280</td>\n",
              "      <td>-1</td>\n",
              "      <td>-0.021550</td>\n",
              "      <td>-1</td>\n",
              "      <td>-0.022348</td>\n",
              "      <td>-1</td>\n",
              "    </tr>\n",
              "    <tr>\n",
              "      <th>64</th>\n",
              "      <td>-2.15660</td>\n",
              "      <td>-1</td>\n",
              "      <td>1.514700</td>\n",
              "      <td>-1</td>\n",
              "      <td>-5.227000</td>\n",
              "      <td>-1</td>\n",
              "      <td>-12.009000</td>\n",
              "      <td>-1</td>\n",
              "      <td>0.753010</td>\n",
              "      <td>-1</td>\n",
              "      <td>...</td>\n",
              "      <td>0.142950</td>\n",
              "      <td>-1</td>\n",
              "      <td>-0.040280</td>\n",
              "      <td>-1</td>\n",
              "      <td>-0.021550</td>\n",
              "      <td>-1</td>\n",
              "      <td>-0.022348</td>\n",
              "      <td>-1</td>\n",
              "      <td>0.081916</td>\n",
              "      <td>-1</td>\n",
              "    </tr>\n",
              "  </tbody>\n",
              "</table>\n",
              "<p>65 rows × 99180 columns</p>\n",
              "</div>\n",
              "    <div class=\"colab-df-buttons\">\n",
              "\n",
              "  <div class=\"colab-df-container\">\n",
              "    <button class=\"colab-df-convert\" onclick=\"convertToInteractive('df-2e950a6b-ed82-446a-8306-90f099c68eb5')\"\n",
              "            title=\"Convert this dataframe to an interactive table.\"\n",
              "            style=\"display:none;\">\n",
              "\n",
              "  <svg xmlns=\"http://www.w3.org/2000/svg\" height=\"24px\" viewBox=\"0 -960 960 960\">\n",
              "    <path d=\"M120-120v-720h720v720H120Zm60-500h600v-160H180v160Zm220 220h160v-160H400v160Zm0 220h160v-160H400v160ZM180-400h160v-160H180v160Zm440 0h160v-160H620v160ZM180-180h160v-160H180v160Zm440 0h160v-160H620v160Z\"/>\n",
              "  </svg>\n",
              "    </button>\n",
              "\n",
              "  <style>\n",
              "    .colab-df-container {\n",
              "      display:flex;\n",
              "      gap: 12px;\n",
              "    }\n",
              "\n",
              "    .colab-df-convert {\n",
              "      background-color: #E8F0FE;\n",
              "      border: none;\n",
              "      border-radius: 50%;\n",
              "      cursor: pointer;\n",
              "      display: none;\n",
              "      fill: #1967D2;\n",
              "      height: 32px;\n",
              "      padding: 0 0 0 0;\n",
              "      width: 32px;\n",
              "    }\n",
              "\n",
              "    .colab-df-convert:hover {\n",
              "      background-color: #E2EBFA;\n",
              "      box-shadow: 0px 1px 2px rgba(60, 64, 67, 0.3), 0px 1px 3px 1px rgba(60, 64, 67, 0.15);\n",
              "      fill: #174EA6;\n",
              "    }\n",
              "\n",
              "    .colab-df-buttons div {\n",
              "      margin-bottom: 4px;\n",
              "    }\n",
              "\n",
              "    [theme=dark] .colab-df-convert {\n",
              "      background-color: #3B4455;\n",
              "      fill: #D2E3FC;\n",
              "    }\n",
              "\n",
              "    [theme=dark] .colab-df-convert:hover {\n",
              "      background-color: #434B5C;\n",
              "      box-shadow: 0px 1px 3px 1px rgba(0, 0, 0, 0.15);\n",
              "      filter: drop-shadow(0px 1px 2px rgba(0, 0, 0, 0.3));\n",
              "      fill: #FFFFFF;\n",
              "    }\n",
              "  </style>\n",
              "\n",
              "    <script>\n",
              "      const buttonEl =\n",
              "        document.querySelector('#df-2e950a6b-ed82-446a-8306-90f099c68eb5 button.colab-df-convert');\n",
              "      buttonEl.style.display =\n",
              "        google.colab.kernel.accessAllowed ? 'block' : 'none';\n",
              "\n",
              "      async function convertToInteractive(key) {\n",
              "        const element = document.querySelector('#df-2e950a6b-ed82-446a-8306-90f099c68eb5');\n",
              "        const dataTable =\n",
              "          await google.colab.kernel.invokeFunction('convertToInteractive',\n",
              "                                                    [key], {});\n",
              "        if (!dataTable) return;\n",
              "\n",
              "        const docLinkHtml = 'Like what you see? Visit the ' +\n",
              "          '<a target=\"_blank\" href=https://colab.research.google.com/notebooks/data_table.ipynb>data table notebook</a>'\n",
              "          + ' to learn more about interactive tables.';\n",
              "        element.innerHTML = '';\n",
              "        dataTable['output_type'] = 'display_data';\n",
              "        await google.colab.output.renderOutput(dataTable, element);\n",
              "        const docLink = document.createElement('div');\n",
              "        docLink.innerHTML = docLinkHtml;\n",
              "        element.appendChild(docLink);\n",
              "      }\n",
              "    </script>\n",
              "  </div>\n",
              "\n",
              "\n",
              "<div id=\"df-eb98e6f5-29f5-45da-9d1d-a01283e8a410\">\n",
              "  <button class=\"colab-df-quickchart\" onclick=\"quickchart('df-eb98e6f5-29f5-45da-9d1d-a01283e8a410')\"\n",
              "            title=\"Suggest charts\"\n",
              "            style=\"display:none;\">\n",
              "\n",
              "<svg xmlns=\"http://www.w3.org/2000/svg\" height=\"24px\"viewBox=\"0 0 24 24\"\n",
              "     width=\"24px\">\n",
              "    <g>\n",
              "        <path d=\"M19 3H5c-1.1 0-2 .9-2 2v14c0 1.1.9 2 2 2h14c1.1 0 2-.9 2-2V5c0-1.1-.9-2-2-2zM9 17H7v-7h2v7zm4 0h-2V7h2v10zm4 0h-2v-4h2v4z\"/>\n",
              "    </g>\n",
              "</svg>\n",
              "  </button>\n",
              "\n",
              "<style>\n",
              "  .colab-df-quickchart {\n",
              "      --bg-color: #E8F0FE;\n",
              "      --fill-color: #1967D2;\n",
              "      --hover-bg-color: #E2EBFA;\n",
              "      --hover-fill-color: #174EA6;\n",
              "      --disabled-fill-color: #AAA;\n",
              "      --disabled-bg-color: #DDD;\n",
              "  }\n",
              "\n",
              "  [theme=dark] .colab-df-quickchart {\n",
              "      --bg-color: #3B4455;\n",
              "      --fill-color: #D2E3FC;\n",
              "      --hover-bg-color: #434B5C;\n",
              "      --hover-fill-color: #FFFFFF;\n",
              "      --disabled-bg-color: #3B4455;\n",
              "      --disabled-fill-color: #666;\n",
              "  }\n",
              "\n",
              "  .colab-df-quickchart {\n",
              "    background-color: var(--bg-color);\n",
              "    border: none;\n",
              "    border-radius: 50%;\n",
              "    cursor: pointer;\n",
              "    display: none;\n",
              "    fill: var(--fill-color);\n",
              "    height: 32px;\n",
              "    padding: 0;\n",
              "    width: 32px;\n",
              "  }\n",
              "\n",
              "  .colab-df-quickchart:hover {\n",
              "    background-color: var(--hover-bg-color);\n",
              "    box-shadow: 0 1px 2px rgba(60, 64, 67, 0.3), 0 1px 3px 1px rgba(60, 64, 67, 0.15);\n",
              "    fill: var(--button-hover-fill-color);\n",
              "  }\n",
              "\n",
              "  .colab-df-quickchart-complete:disabled,\n",
              "  .colab-df-quickchart-complete:disabled:hover {\n",
              "    background-color: var(--disabled-bg-color);\n",
              "    fill: var(--disabled-fill-color);\n",
              "    box-shadow: none;\n",
              "  }\n",
              "\n",
              "  .colab-df-spinner {\n",
              "    border: 2px solid var(--fill-color);\n",
              "    border-color: transparent;\n",
              "    border-bottom-color: var(--fill-color);\n",
              "    animation:\n",
              "      spin 1s steps(1) infinite;\n",
              "  }\n",
              "\n",
              "  @keyframes spin {\n",
              "    0% {\n",
              "      border-color: transparent;\n",
              "      border-bottom-color: var(--fill-color);\n",
              "      border-left-color: var(--fill-color);\n",
              "    }\n",
              "    20% {\n",
              "      border-color: transparent;\n",
              "      border-left-color: var(--fill-color);\n",
              "      border-top-color: var(--fill-color);\n",
              "    }\n",
              "    30% {\n",
              "      border-color: transparent;\n",
              "      border-left-color: var(--fill-color);\n",
              "      border-top-color: var(--fill-color);\n",
              "      border-right-color: var(--fill-color);\n",
              "    }\n",
              "    40% {\n",
              "      border-color: transparent;\n",
              "      border-right-color: var(--fill-color);\n",
              "      border-top-color: var(--fill-color);\n",
              "    }\n",
              "    60% {\n",
              "      border-color: transparent;\n",
              "      border-right-color: var(--fill-color);\n",
              "    }\n",
              "    80% {\n",
              "      border-color: transparent;\n",
              "      border-right-color: var(--fill-color);\n",
              "      border-bottom-color: var(--fill-color);\n",
              "    }\n",
              "    90% {\n",
              "      border-color: transparent;\n",
              "      border-bottom-color: var(--fill-color);\n",
              "    }\n",
              "  }\n",
              "</style>\n",
              "\n",
              "  <script>\n",
              "    async function quickchart(key) {\n",
              "      const quickchartButtonEl =\n",
              "        document.querySelector('#' + key + ' button');\n",
              "      quickchartButtonEl.disabled = true;  // To prevent multiple clicks.\n",
              "      quickchartButtonEl.classList.add('colab-df-spinner');\n",
              "      try {\n",
              "        const charts = await google.colab.kernel.invokeFunction(\n",
              "            'suggestCharts', [key], {});\n",
              "      } catch (error) {\n",
              "        console.error('Error during call to suggestCharts:', error);\n",
              "      }\n",
              "      quickchartButtonEl.classList.remove('colab-df-spinner');\n",
              "      quickchartButtonEl.classList.add('colab-df-quickchart-complete');\n",
              "    }\n",
              "    (() => {\n",
              "      let quickchartButtonEl =\n",
              "        document.querySelector('#df-eb98e6f5-29f5-45da-9d1d-a01283e8a410 button');\n",
              "      quickchartButtonEl.style.display =\n",
              "        google.colab.kernel.accessAllowed ? 'block' : 'none';\n",
              "    })();\n",
              "  </script>\n",
              "</div>\n",
              "    </div>\n",
              "  </div>\n"
            ]
          },
          "metadata": {},
          "execution_count": 8
        }
      ],
      "source": [
        "data_real"
      ]
    },
    {
      "cell_type": "code",
      "execution_count": null,
      "metadata": {
        "id": "pUJ0OTzKSUIO",
        "colab": {
          "base_uri": "https://localhost:8080/"
        },
        "outputId": "96848558-b16c-4590-e1a7-0f46f9e397a7"
      },
      "outputs": [
        {
          "output_type": "execute_result",
          "data": {
            "text/plain": [
              "(65, 99180)"
            ]
          },
          "metadata": {},
          "execution_count": 9
        }
      ],
      "source": [
        "data_real.shape"
      ]
    },
    {
      "cell_type": "code",
      "execution_count": null,
      "metadata": {
        "id": "xOuhMqFswk4m",
        "colab": {
          "base_uri": "https://localhost:8080/"
        },
        "outputId": "9ebf0163-ba64-41b5-f7e6-d2ec224e8efc"
      },
      "outputs": [
        {
          "output_type": "stream",
          "name": "stdout",
          "text": [
            "Shape of received_array: (65, 49590)\n",
            "Shape of preamble_array: (65, 49590)\n"
          ]
        }
      ],
      "source": [
        "# Splitting the data into received signals and preambles\n",
        "received_df = data_real.iloc[:, ::2]\n",
        "preamble_df = data_real.iloc[:, 1::2]\n",
        "\n",
        "received_array = received_df.to_numpy()\n",
        "preamble_array = preamble_df.to_numpy()\n",
        "\n",
        "print(\"Shape of received_array:\", received_array.shape)\n",
        "print(\"Shape of preamble_array:\", preamble_array.shape)\n"
      ]
    },
    {
      "cell_type": "code",
      "execution_count": null,
      "metadata": {
        "id": "6vj8G38Lz1n6",
        "colab": {
          "base_uri": "https://localhost:8080/"
        },
        "outputId": "6977b935-6318-4e88-b965-5c3350934e42"
      },
      "outputs": [
        {
          "output_type": "execute_result",
          "data": {
            "text/plain": [
              "array([[-13.179   ,  10.328   ,   3.6992  , ...,   0.96803 ,   1.0906  ,\n",
              "          0.95082 ],\n",
              "       [ 10.328   ,   3.6992  ,  13.622   , ...,   1.0906  ,   0.95082 ,\n",
              "          1.1227  ],\n",
              "       [  3.6992  ,  13.622   ,   9.6015  , ...,   0.95082 ,   1.1227  ,\n",
              "          1.022   ],\n",
              "       ...,\n",
              "       [ -2.3358  ,   0.68821 ,  -2.1566  , ...,   0.14295 ,  -0.04028 ,\n",
              "         -0.02155 ],\n",
              "       [  0.68821 ,  -2.1566  ,   1.5147  , ...,  -0.04028 ,  -0.02155 ,\n",
              "         -0.022348],\n",
              "       [ -2.1566  ,   1.5147  ,  -5.227   , ...,  -0.02155 ,  -0.022348,\n",
              "          0.081916]])"
            ]
          },
          "metadata": {},
          "execution_count": 11
        }
      ],
      "source": [
        "received_array"
      ]
    },
    {
      "cell_type": "code",
      "execution_count": null,
      "metadata": {
        "id": "ciUyHlo7z3kx",
        "colab": {
          "base_uri": "https://localhost:8080/"
        },
        "outputId": "40c36ed5-d452-4268-c287-6d6405871549"
      },
      "outputs": [
        {
          "output_type": "execute_result",
          "data": {
            "text/plain": [
              "array([[-1, -1, -1, ..., -1, -1, -1],\n",
              "       [-1, -1, -1, ..., -1, -1, -1],\n",
              "       [-1, -1, -1, ..., -1, -1, -1],\n",
              "       ...,\n",
              "       [-1, -1, -1, ..., -1, -1, -1],\n",
              "       [-1, -1, -1, ..., -1, -1, -1],\n",
              "       [-1, -1, -1, ..., -1, -1, -1]])"
            ]
          },
          "metadata": {},
          "execution_count": 12
        }
      ],
      "source": [
        "preamble_array"
      ]
    },
    {
      "cell_type": "code",
      "execution_count": null,
      "metadata": {
        "id": "beAeM_HozSZd"
      },
      "outputs": [],
      "source": [
        "# received_array_1 = received_array.transpose()\n",
        "# preamble_array_1 = preamble_array.transpose()"
      ]
    },
    {
      "cell_type": "code",
      "execution_count": null,
      "metadata": {
        "id": "D3Jas8PazsRx"
      },
      "outputs": [],
      "source": [
        "# preamble_array_1.shape\n",
        "# received_array_1.shape"
      ]
    },
    {
      "cell_type": "code",
      "execution_count": null,
      "metadata": {
        "id": "jfPMP7u-1955",
        "colab": {
          "base_uri": "https://localhost:8080/"
        },
        "outputId": "324ea0c5-4072-461c-c4e8-f07d571996ae"
      },
      "outputs": [
        {
          "output_type": "stream",
          "name": "stdout",
          "text": [
            "Shape of reshaped_data: (130, 49590)\n"
          ]
        }
      ],
      "source": [
        "reshaped_data = np.empty((received_array.shape[0] + preamble_array.shape[0], received_array.shape[1]))\n",
        "\n",
        "reshaped_data[0::2] = received_array\n",
        "reshaped_data[1::2] = preamble_array\n",
        "\n",
        "print(\"Shape of reshaped_data:\", reshaped_data.shape)\n"
      ]
    },
    {
      "cell_type": "code",
      "execution_count": null,
      "metadata": {
        "id": "GzJsQA0Y24KO",
        "colab": {
          "base_uri": "https://localhost:8080/"
        },
        "outputId": "392bc514-3969-47dc-a522-4bad977f3521"
      },
      "outputs": [
        {
          "output_type": "execute_result",
          "data": {
            "text/plain": [
              "array([[-13.179   ,  10.328   ,   3.6992  , ...,   0.96803 ,   1.0906  ,\n",
              "          0.95082 ],\n",
              "       [ -1.      ,  -1.      ,  -1.      , ...,  -1.      ,  -1.      ,\n",
              "         -1.      ],\n",
              "       [ 10.328   ,   3.6992  ,  13.622   , ...,   1.0906  ,   0.95082 ,\n",
              "          1.1227  ],\n",
              "       ...,\n",
              "       [ -1.      ,  -1.      ,  -1.      , ...,  -1.      ,  -1.      ,\n",
              "         -1.      ],\n",
              "       [ -2.1566  ,   1.5147  ,  -5.227   , ...,  -0.02155 ,  -0.022348,\n",
              "          0.081916],\n",
              "       [ -1.      ,  -1.      ,  -1.      , ...,  -1.      ,  -1.      ,\n",
              "         -1.      ]])"
            ]
          },
          "metadata": {},
          "execution_count": 16
        }
      ],
      "source": [
        "reshaped_data"
      ]
    },
    {
      "cell_type": "code",
      "execution_count": null,
      "metadata": {
        "id": "SsI7qI6Q3HIa"
      },
      "outputs": [],
      "source": [
        "import pandas as pd\n",
        "\n",
        "# Convert the interleaved array into a DataFrame\n",
        "reshaped_data = pd.DataFrame(reshaped_data)\n",
        "\n",
        "# Display the DataFrame\n",
        "# print(reshaped_data)"
      ]
    },
    {
      "cell_type": "markdown",
      "source": [
        "#trial"
      ],
      "metadata": {
        "id": "0LiMcdEQjdyg"
      }
    },
    {
      "cell_type": "code",
      "execution_count": null,
      "metadata": {
        "id": "-h0JU-Bs3NXM"
      },
      "outputs": [],
      "source": [
        "# from tensorflow.keras import layers, models\n",
        "\n",
        "# def leaky_relu(x):\n",
        "#     import tensorflow as tf\n",
        "#     return tf.keras.activations.relu(x, alpha=0.005)\n",
        "\n",
        "\n",
        "\n",
        "# model = models.Sequential()\n",
        "\n",
        "# model.add(layers.Conv2D(64, (1, 2), activation=leaky_relu, input_shape=( 13, 5,4)))\n",
        "# model.add(layers.BatchNormalization(axis=-1))\n",
        "# model.add(layers.Conv2D(32, (1, 2), activation='sigmoid', input_shape=( 13, 4,64)))\n",
        "# model.add(layers.Conv2D(32, (1, 2), activation='relu', input_shape=( 13, 3, 32)))\n",
        "# model.add(layers.Conv2D(32, (1, 2), activation='relu', input_shape=( 13, 2, 32)))\n",
        "# model.add(layers.Flatten())\n",
        "# model.add(layers.Dense(128, activation='relu'))\n",
        "# model.add(layers.Dense(64, activation='relu'))\n",
        "# model.add(layers.Dense(32, activation='relu'))\n",
        "# model.add(layers.Dense(16, activation='relu'))\n",
        "# model.add(layers.Dense(8, activation='relu'))\n",
        "# model.add(layers.Dense(4, activation='relu'))\n",
        "# model.add(layers.Dense(2, activation='relu'))\n",
        "\n",
        "# model.add(layers.Dense(1, activation='sigmoid'))\n",
        "\n",
        "# model.compile(optimizer='adam',\n",
        "#               loss='binary_crossentropy',\n",
        "#               metrics=['accuracy'])\n"
      ]
    },
    {
      "cell_type": "code",
      "execution_count": null,
      "metadata": {
        "id": "XOHx1KHz422h"
      },
      "outputs": [],
      "source": [
        "# model.summary()"
      ]
    },
    {
      "cell_type": "markdown",
      "source": [
        "#1D"
      ],
      "metadata": {
        "id": "rmEmIjBrjgJ8"
      }
    },
    {
      "cell_type": "code",
      "execution_count": null,
      "metadata": {
        "id": "TavneuJ-9htS"
      },
      "outputs": [],
      "source": [
        "import numpy as np\n",
        "\n",
        "# Convert the Pandas Series to a NumPy array\n",
        "labels_array = labels.to_numpy()\n",
        "\n",
        "# Remove single-dimensional entries from the shape of an array\n",
        "labels_reshaped = np.squeeze(labels_array)\n",
        "\n",
        "# Reshape to have a single column\n",
        "labels_reshaped = labels_reshaped.reshape(-1, 1)\n",
        "\n",
        "# Now, both X and y should have the same number of samples, and you can perform the train-test split\n"
      ]
    },
    {
      "cell_type": "code",
      "execution_count": null,
      "metadata": {
        "id": "XDX0yQnWaSB3"
      },
      "outputs": [],
      "source": [
        "reshaped = reshaped_data.transpose()"
      ]
    },
    {
      "cell_type": "code",
      "execution_count": null,
      "metadata": {
        "id": "odLE0y5xaXBH",
        "colab": {
          "base_uri": "https://localhost:8080/"
        },
        "outputId": "ec999e48-d7d2-420c-95e7-73fce0c81813"
      },
      "outputs": [
        {
          "output_type": "execute_result",
          "data": {
            "text/plain": [
              "(49590, 130)"
            ]
          },
          "metadata": {},
          "execution_count": 22
        }
      ],
      "source": [
        "reshaped.shape"
      ]
    },
    {
      "cell_type": "code",
      "execution_count": null,
      "metadata": {
        "id": "h4UQXaTsFAyb",
        "colab": {
          "base_uri": "https://localhost:8080/"
        },
        "outputId": "30931db7-c4ed-4372-84f1-c3c3ac6bb215"
      },
      "outputs": [
        {
          "output_type": "execute_result",
          "data": {
            "text/plain": [
              "(49590, 1)"
            ]
          },
          "metadata": {},
          "execution_count": 23
        }
      ],
      "source": [
        "labels_reshaped.shape"
      ]
    },
    {
      "cell_type": "code",
      "execution_count": null,
      "metadata": {
        "id": "DGdeKSGzaopC"
      },
      "outputs": [],
      "source": [
        "import pandas as pd\n",
        "\n",
        "# Convert the interleaved array into a DataFrame\n",
        "reshaped = pd.DataFrame(reshaped)\n",
        "\n",
        "# Display the DataFrame\n",
        "# print(reshaped)"
      ]
    },
    {
      "cell_type": "code",
      "execution_count": null,
      "metadata": {
        "id": "p8Ii5IAc9ynL",
        "colab": {
          "base_uri": "https://localhost:8080/"
        },
        "outputId": "1f1aa7f3-af5b-428e-e17b-205de58716a9"
      },
      "outputs": [
        {
          "output_type": "stream",
          "name": "stdout",
          "text": [
            "Shape of X_train: (39672, 130)\n",
            "Shape of X_test: (9918, 130)\n",
            "Shape of y_train: (39672, 1)\n",
            "Shape of y_test: (9918, 1)\n"
          ]
        }
      ],
      "source": [
        "from sklearn.model_selection import train_test_split\n",
        "\n",
        "X = reshaped.values\n",
        "y = labels_reshaped\n",
        "\n",
        "# Split the data into training and testing sets (80% train, 20% test)\n",
        "X_train, X_test, y_train, y_test = train_test_split(X, y, test_size=0.2, random_state=42)\n",
        "\n",
        "print(\"Shape of X_train:\", X_train.shape)\n",
        "print(\"Shape of X_test:\", X_test.shape)\n",
        "print(\"Shape of y_train:\", y_train.shape)\n",
        "print(\"Shape of y_test:\", y_test.shape)\n"
      ]
    },
    {
      "cell_type": "code",
      "execution_count": null,
      "metadata": {
        "id": "PVuDJpd1fJ1T"
      },
      "outputs": [],
      "source": [
        "# y_train"
      ]
    },
    {
      "cell_type": "code",
      "execution_count": null,
      "metadata": {
        "id": "4QPXDCxQctjX"
      },
      "outputs": [],
      "source": [
        "import numpy as np\n",
        "\n",
        "# Convert Pandas Series to NumPy array\n",
        "labels_array = labels.to_numpy()\n",
        "\n",
        "# Remove single-dimensional entries from the shape of an array\n",
        "labels_reshaped = np.squeeze(labels_array)\n",
        "\n",
        "# Reshape to have a single column\n",
        "labels_reshaped = labels_reshaped.reshape(-1, 1)\n"
      ]
    },
    {
      "cell_type": "code",
      "execution_count": null,
      "metadata": {
        "id": "m3txvbKn_IPU",
        "colab": {
          "base_uri": "https://localhost:8080/"
        },
        "outputId": "c15dd1e3-27e7-4cb7-f83a-19ab296e8e24"
      },
      "outputs": [
        {
          "output_type": "stream",
          "name": "stdout",
          "text": [
            "Epoch 1/10\n",
            "1240/1240 [==============================] - 23s 11ms/step - loss: 0.0149 - accuracy: 0.9980 - val_loss: 0.0044 - val_accuracy: 0.9989\n",
            "Epoch 2/10\n",
            "1240/1240 [==============================] - 10s 8ms/step - loss: 0.0072 - accuracy: 0.9980 - val_loss: 0.0043 - val_accuracy: 0.9989\n",
            "Epoch 3/10\n",
            "1240/1240 [==============================] - 11s 9ms/step - loss: 0.0065 - accuracy: 0.9987 - val_loss: 0.0042 - val_accuracy: 0.9995\n",
            "Epoch 4/10\n",
            "1240/1240 [==============================] - 12s 10ms/step - loss: 0.0053 - accuracy: 0.9990 - val_loss: 0.0036 - val_accuracy: 0.9995\n",
            "Epoch 5/10\n",
            "1240/1240 [==============================] - 11s 9ms/step - loss: 0.0044 - accuracy: 0.9991 - val_loss: 0.0042 - val_accuracy: 0.9994\n",
            "Epoch 6/10\n",
            "1240/1240 [==============================] - 10s 8ms/step - loss: 0.0033 - accuracy: 0.9992 - val_loss: 0.0056 - val_accuracy: 0.9995\n",
            "Epoch 7/10\n",
            "1240/1240 [==============================] - 12s 10ms/step - loss: 0.0035 - accuracy: 0.9992 - val_loss: 0.0055 - val_accuracy: 0.9983\n",
            "Epoch 8/10\n",
            "1240/1240 [==============================] - 12s 9ms/step - loss: 0.0030 - accuracy: 0.9991 - val_loss: 0.0051 - val_accuracy: 0.9991\n",
            "Epoch 9/10\n",
            "1240/1240 [==============================] - 9s 8ms/step - loss: 0.0020 - accuracy: 0.9995 - val_loss: 0.0062 - val_accuracy: 0.9994\n",
            "Epoch 10/10\n",
            "1240/1240 [==============================] - 11s 9ms/step - loss: 0.0017 - accuracy: 0.9996 - val_loss: 0.0067 - val_accuracy: 0.9991\n"
          ]
        }
      ],
      "source": [
        "from sklearn.model_selection import train_test_split\n",
        "from tensorflow.keras import layers, models\n",
        "\n",
        "def leaky_relu(x):\n",
        "    import tensorflow as tf\n",
        "    return tf.keras.activations.relu(x, alpha=0.005)\n",
        "\n",
        "model = models.Sequential()\n",
        "model.add(layers.Reshape((130, 1), input_shape=(130,)))\n",
        "model.add(layers.Conv1D(64, 3, activation=leaky_relu))\n",
        "model.add(layers.BatchNormalization())\n",
        "model.add(layers.Conv1D(32, 3, activation='sigmoid'))\n",
        "model.add(layers.Conv1D(32, 3, activation='relu'))\n",
        "model.add(layers.Conv1D(32, 3, activation='relu'))\n",
        "model.add(layers.Flatten())\n",
        "model.add(layers.Dense(128, activation='relu'))\n",
        "model.add(layers.Dense(64, activation='relu'))\n",
        "model.add(layers.Dense(32, activation='relu'))\n",
        "model.add(layers.Dense(16, activation='relu'))\n",
        "model.add(layers.Dense(8, activation='relu'))\n",
        "model.add(layers.Dense(4, activation='relu'))\n",
        "model.add(layers.Dense(2, activation='relu'))\n",
        "model.add(layers.Dense(1, activation='sigmoid'))\n",
        "\n",
        "model.compile(optimizer='adam',\n",
        "              loss='binary_crossentropy',\n",
        "              metrics=['accuracy'])\n",
        "\n",
        "# Train the model\n",
        "history = model.fit(X_train, y_train, epochs=10, batch_size=32, validation_data=(X_test, y_test))\n"
      ]
    },
    {
      "cell_type": "code",
      "execution_count": null,
      "metadata": {
        "id": "0uxA4RtIbS9k",
        "colab": {
          "base_uri": "https://localhost:8080/"
        },
        "outputId": "c3f214d6-d664-4e65-c78b-c8cbdd6c7d38"
      },
      "outputs": [
        {
          "output_type": "stream",
          "name": "stdout",
          "text": [
            "310/310 [==============================] - 1s 2ms/step\n",
            "Accuracy: 0.9990925589836661\n",
            "Precision: 0.5714285714285714\n",
            "Recall: 0.7272727272727273\n",
            "F1 Score: 0.64\n",
            "Confusion Matrix:\n",
            " [[9901    6]\n",
            " [   3    8]]\n"
          ]
        }
      ],
      "source": [
        "from sklearn.metrics import accuracy_score, precision_score, recall_score, f1_score, confusion_matrix\n",
        "\n",
        "y_pred = model.predict(X_test)\n",
        "y_pred_binary = (y_pred > 0.5).astype(int)\n",
        "\n",
        "accuracy = accuracy_score(y_test, y_pred_binary)\n",
        "precision = precision_score(y_test, y_pred_binary)\n",
        "recall = recall_score(y_test, y_pred_binary)\n",
        "f1 = f1_score(y_test, y_pred_binary)\n",
        "conf_matrix = confusion_matrix(y_test, y_pred_binary)\n",
        "\n",
        "print(\"Accuracy:\", accuracy)\n",
        "print(\"Precision:\", precision)\n",
        "print(\"Recall:\", recall)\n",
        "print(\"F1 Score:\", f1)\n",
        "print(\"Confusion Matrix:\\n\", conf_matrix)\n"
      ]
    },
    {
      "cell_type": "code",
      "execution_count": null,
      "metadata": {
        "id": "-nnsZZqciRzI",
        "colab": {
          "base_uri": "https://localhost:8080/",
          "height": 564
        },
        "outputId": "1ad8fd5c-e1f4-495f-a89c-1d0f72612d22"
      },
      "outputs": [
        {
          "output_type": "display_data",
          "data": {
            "text/plain": [
              "<Figure size 800x600 with 1 Axes>"
            ],
            "image/png": "[encoded data removed]"
          },
          "metadata": {}
        }
      ],
      "source": [
        "from sklearn.metrics import roc_curve, roc_auc_score\n",
        "import matplotlib.pyplot as plt\n",
        "\n",
        "# Calculate ROC curve\n",
        "fpr, tpr, thresholds = roc_curve(y_test, y_pred)\n",
        "\n",
        "# Calculate AUC\n",
        "auc = roc_auc_score(y_test, y_pred)\n",
        "\n",
        "# Plot ROC curve\n",
        "plt.figure(figsize=(8, 6))\n",
        "plt.plot(fpr, tpr, label='ROC curve (area = %0.2f)' % auc)\n",
        "plt.plot([0, 1], [0, 1], 'k--')  # Plot random curve\n",
        "plt.xlim([0.0, 1.0])\n",
        "plt.ylim([0.0, 1.05])\n",
        "plt.xlabel('False Positive Rate')\n",
        "plt.ylabel('True Positive Rate')\n",
        "plt.title('ROC Curve')\n",
        "plt.legend(loc=\"lower right\")\n",
        "plt.show()\n"
      ]
    },
    {
      "cell_type": "code",
      "execution_count": null,
      "metadata": {
        "id": "gksciAkjiuRd"
      },
      "outputs": [],
      "source": []
    },
    {
      "cell_type": "markdown",
      "metadata": {
        "id": "z-7o9KcfXcOM"
      },
      "source": [
        "#2D"
      ]
    },
    {
      "cell_type": "code",
      "execution_count": null,
      "metadata": {
        "id": "xwqlfceGOFry",
        "colab": {
          "base_uri": "https://localhost:8080/"
        },
        "outputId": "7c3b60f6-1e49-4e13-bfed-e454e9e373c7"
      },
      "outputs": [
        {
          "output_type": "stream",
          "name": "stdout",
          "text": [
            "Model: \"sequential_1\"\n",
            "_________________________________________________________________\n",
            " Layer (type)                Output Shape              Param #   \n",
            "=================================================================\n",
            " reshape_1 (Reshape)         (None, 13, 10, 1)         0         \n",
            "                                                                 \n",
            " conv2d (Conv2D)             (None, 13, 10, 64)        448       \n",
            "                                                                 \n",
            " batch_normalization_1 (Bat  (None, 13, 10, 64)        256       \n",
            " chNormalization)                                                \n",
            "                                                                 \n",
            " conv2d_1 (Conv2D)           (None, 13, 10, 32)        12320     \n",
            "                                                                 \n",
            " conv2d_2 (Conv2D)           (None, 13, 10, 32)        6176      \n",
            "                                                                 \n",
            " conv2d_3 (Conv2D)           (None, 13, 10, 32)        6176      \n",
            "                                                                 \n",
            " flatten_1 (Flatten)         (None, 4160)              0         \n",
            "                                                                 \n",
            " dense_8 (Dense)             (None, 128)               532608    \n",
            "                                                                 \n",
            " dropout (Dropout)           (None, 128)               0         \n",
            "                                                                 \n",
            " dense_9 (Dense)             (None, 64)                8256      \n",
            "                                                                 \n",
            " dropout_1 (Dropout)         (None, 64)                0         \n",
            "                                                                 \n",
            " dense_10 (Dense)            (None, 32)                2080      \n",
            "                                                                 \n",
            " dense_11 (Dense)            (None, 16)                528       \n",
            "                                                                 \n",
            " dense_12 (Dense)            (None, 8)                 136       \n",
            "                                                                 \n",
            " dense_13 (Dense)            (None, 4)                 36        \n",
            "                                                                 \n",
            " dense_14 (Dense)            (None, 2)                 10        \n",
            "                                                                 \n",
            " dense_15 (Dense)            (None, 1)                 3         \n",
            "                                                                 \n",
            "=================================================================\n",
            "Total params: 569033 (2.17 MB)\n",
            "Trainable params: 568905 (2.17 MB)\n",
            "Non-trainable params: 128 (512.00 Byte)\n",
            "_________________________________________________________________\n"
          ]
        }
      ],
      "source": [
        "from tensorflow.keras import layers, models\n",
        "\n",
        "# Define your model\n",
        "def leaky_relu(x):\n",
        "    import tensorflow as tf\n",
        "    return tf.keras.activations.relu(x, alpha=0.005)\n",
        "\n",
        "model = models.Sequential()\n",
        "model.add(layers.Reshape((13, 10, 1), input_shape=(130,)))\n",
        "model.add(layers.Conv2D(64, (2, 3), activation=leaky_relu, padding='same'))\n",
        "model.add(layers.BatchNormalization())\n",
        "model.add(layers.Conv2D(32, (2, 3), activation='sigmoid', padding='same'))\n",
        "model.add(layers.Conv2D(32, (2, 3), activation='relu', padding='same'))\n",
        "model.add(layers.Conv2D(32, (2, 3), activation='relu', padding='same'))\n",
        "model.add(layers.Flatten())\n",
        "model.add(layers.Dense(128, activation='relu'))\n",
        "model.add(layers.Dropout(0.5))  # Dropout layer for regularization\n",
        "model.add(layers.Dense(64, activation='relu'))\n",
        "model.add(layers.Dropout(0.5))  # Dropout layer for regularization\n",
        "model.add(layers.Dense(32, activation='relu'))\n",
        "model.add(layers.Dense(16, activation='relu'))\n",
        "model.add(layers.Dense(8, activation='relu'))\n",
        "model.add(layers.Dense(4, activation='relu'))\n",
        "model.add(layers.Dense(2, activation='relu'))\n",
        "model.add(layers.Dense(1, activation='sigmoid'))\n",
        "\n",
        "model.compile(optimizer='adam',\n",
        "              loss='binary_crossentropy',\n",
        "              metrics=['accuracy'])\n",
        "\n",
        "model.summary()"
      ]
    },
    {
      "cell_type": "code",
      "execution_count": null,
      "metadata": {
        "id": "J7PMWN5dRrzP",
        "colab": {
          "base_uri": "https://localhost:8080/"
        },
        "outputId": "f4105d8f-e730-4383-a16b-b33c69304d62"
      },
      "outputs": [
        {
          "output_type": "stream",
          "name": "stdout",
          "text": [
            "Epoch 1/10\n",
            "1240/1240 [==============================] - 17s 10ms/step - loss: 0.0199 - accuracy: 0.9971 - val_loss: 0.0063 - val_accuracy: 0.9989\n",
            "Epoch 2/10\n",
            "1240/1240 [==============================] - 10s 8ms/step - loss: 0.0103 - accuracy: 0.9980 - val_loss: 0.0051 - val_accuracy: 0.9989\n",
            "Epoch 3/10\n",
            "1240/1240 [==============================] - 10s 8ms/step - loss: 0.0079 - accuracy: 0.9980 - val_loss: 0.0049 - val_accuracy: 0.9989\n",
            "Epoch 4/10\n",
            "1240/1240 [==============================] - 11s 9ms/step - loss: 0.0072 - accuracy: 0.9980 - val_loss: 0.0044 - val_accuracy: 0.9989\n",
            "Epoch 5/10\n",
            "1240/1240 [==============================] - 9s 7ms/step - loss: 0.0080 - accuracy: 0.9980 - val_loss: 0.0122 - val_accuracy: 0.9989\n",
            "Epoch 6/10\n",
            "1240/1240 [==============================] - 11s 9ms/step - loss: 0.0075 - accuracy: 0.9980 - val_loss: 0.0088 - val_accuracy: 0.9989\n",
            "Epoch 7/10\n",
            "1240/1240 [==============================] - 11s 9ms/step - loss: 0.0058 - accuracy: 0.9985 - val_loss: 0.0048 - val_accuracy: 0.9995\n",
            "Epoch 8/10\n",
            "1240/1240 [==============================] - 9s 7ms/step - loss: 0.0060 - accuracy: 0.9990 - val_loss: 0.0038 - val_accuracy: 0.9995\n",
            "Epoch 9/10\n",
            "1240/1240 [==============================] - 11s 9ms/step - loss: 0.0052 - accuracy: 0.9991 - val_loss: 0.0037 - val_accuracy: 0.9995\n",
            "Epoch 10/10\n",
            "1240/1240 [==============================] - 11s 9ms/step - loss: 0.0070 - accuracy: 0.9991 - val_loss: 0.0053 - val_accuracy: 0.9995\n"
          ]
        }
      ],
      "source": [
        "history = model.fit(X_train, y_train, epochs=10, batch_size=32, validation_data=(X_test, y_test))"
      ]
    },
    {
      "cell_type": "code",
      "execution_count": null,
      "metadata": {
        "id": "8s1kDAuESNr2",
        "colab": {
          "base_uri": "https://localhost:8080/"
        },
        "outputId": "aed2898d-e8e3-4ff8-8515-e853f04b217c"
      },
      "outputs": [
        {
          "output_type": "stream",
          "name": "stdout",
          "text": [
            "310/310 [==============================] - 1s 2ms/step\n",
            "Accuracy: 0.9994958661020367\n",
            "Precision: 1.0\n",
            "Recall: 0.5454545454545454\n",
            "F1 Score: 0.7058823529411764\n",
            "Confusion Matrix:\n",
            " [[9907    0]\n",
            " [   5    6]]\n"
          ]
        }
      ],
      "source": [
        "from sklearn.metrics import accuracy_score, precision_score, recall_score, f1_score, confusion_matrix\n",
        "\n",
        "y_pred = model.predict(X_test)\n",
        "y_pred_binary = (y_pred > 0.5).astype(int)\n",
        "\n",
        "accuracy = accuracy_score(y_test, y_pred_binary)\n",
        "precision = precision_score(y_test, y_pred_binary)\n",
        "recall = recall_score(y_test, y_pred_binary)\n",
        "f1 = f1_score(y_test, y_pred_binary)\n",
        "conf_matrix = confusion_matrix(y_test, y_pred_binary)\n",
        "\n",
        "print(\"Accuracy:\", accuracy)\n",
        "print(\"Precision:\", precision)\n",
        "print(\"Recall:\", recall)\n",
        "print(\"F1 Score:\", f1)\n",
        "print(\"Confusion Matrix:\\n\", conf_matrix)"
      ]
    },
    {
      "cell_type": "code",
      "execution_count": null,
      "metadata": {
        "id": "bwwnG6iISbLP",
        "colab": {
          "base_uri": "https://localhost:8080/",
          "height": 564
        },
        "outputId": "7dfb6d2f-e3bb-41d4-eab8-84d4fb3c6076"
      },
      "outputs": [
        {
          "output_type": "display_data",
          "data": {
            "text/plain": [
              "<Figure size 800x600 with 1 Axes>"
            ],
            "image/png": "[encoded data removed]"
          },
          "metadata": {}
        }
      ],
      "source": [
        "from sklearn.metrics import roc_curve, roc_auc_score\n",
        "import matplotlib.pyplot as plt\n",
        "\n",
        "# Calculate ROC curve\n",
        "fpr, tpr, thresholds = roc_curve(y_test, y_pred)\n",
        "\n",
        "# Calculate AUC\n",
        "auc = roc_auc_score(y_test, y_pred)\n",
        "\n",
        "# Plot ROC curve\n",
        "plt.figure(figsize=(8, 6))\n",
        "plt.plot(fpr, tpr, label='ROC curve (area = %0.2f)' % auc)\n",
        "plt.plot([0, 1], [0, 1], 'k--')  # Plot random curve\n",
        "plt.xlim([0.0, 1.0])\n",
        "plt.ylim([0.0, 1.05])\n",
        "plt.xlabel('False Positive Rate')\n",
        "plt.ylabel('True Positive Rate')\n",
        "plt.title('ROC Curve')\n",
        "plt.legend(loc=\"lower right\")\n",
        "plt.show()"
      ]
    },
    {
      "cell_type": "code",
      "execution_count": null,
      "metadata": {
        "id": "5OGeIYdaSeaM",
        "colab": {
          "base_uri": "https://localhost:8080/"
        },
        "outputId": "01b3fd5d-cb16-46b6-f9e2-31c865eeb710"
      },
      "outputs": [
        {
          "output_type": "stream",
          "name": "stdout",
          "text": [
            "310/310 [==============================] - 1s 3ms/step - loss: 0.0053 - accuracy: 0.9995\n",
            "Test Accuracy: 0.9994958639144897\n"
          ]
        }
      ],
      "source": [
        "test_loss, test_accuracy = model.evaluate(X_test, y_test)\n",
        "\n",
        "print(\"Test Accuracy:\", test_accuracy)"
      ]
    },
    {
      "cell_type": "code",
      "execution_count": null,
      "metadata": {
        "id": "IHD5ml5mXV5e"
      },
      "outputs": [],
      "source": []
    },
    {
      "cell_type": "markdown",
      "metadata": {
        "id": "jDwOPr9wXYal"
      },
      "source": [
        "#New"
      ]
    },
    {
      "cell_type": "code",
      "execution_count": null,
      "metadata": {
        "id": "oPguqsAxXZTI",
        "colab": {
          "base_uri": "https://localhost:8080/"
        },
        "outputId": "ecfb8c3a-4c71-4ea4-a176-a83903bddc37"
      },
      "outputs": [
        {
          "output_type": "stream",
          "name": "stdout",
          "text": [
            "Model: \"sequential_3\"\n",
            "_________________________________________________________________\n",
            " Layer (type)                Output Shape              Param #   \n",
            "=================================================================\n",
            " reshape_3 (Reshape)         (None, 13, 10, 1)         0         \n",
            "                                                                 \n",
            " conv2d_8 (Conv2D)           (None, 12, 8, 64)         448       \n",
            "                                                                 \n",
            " batch_normalization_3 (Bat  (None, 12, 8, 64)         256       \n",
            " chNormalization)                                                \n",
            "                                                                 \n",
            " conv2d_9 (Conv2D)           (None, 12, 8, 32)         12320     \n",
            "                                                                 \n",
            " conv2d_10 (Conv2D)          (None, 12, 8, 32)         6176      \n",
            "                                                                 \n",
            " conv2d_11 (Conv2D)          (None, 12, 8, 32)         6176      \n",
            "                                                                 \n",
            " flatten_3 (Flatten)         (None, 3072)              0         \n",
            "                                                                 \n",
            " dense_24 (Dense)            (None, 128)               393344    \n",
            "                                                                 \n",
            " dense_25 (Dense)            (None, 64)                8256      \n",
            "                                                                 \n",
            " dense_26 (Dense)            (None, 32)                2080      \n",
            "                                                                 \n",
            " dense_27 (Dense)            (None, 16)                528       \n",
            "                                                                 \n",
            " dense_28 (Dense)            (None, 8)                 136       \n",
            "                                                                 \n",
            " dense_29 (Dense)            (None, 4)                 36        \n",
            "                                                                 \n",
            " dense_30 (Dense)            (None, 2)                 10        \n",
            "                                                                 \n",
            " dense_31 (Dense)            (None, 1)                 3         \n",
            "                                                                 \n",
            "=================================================================\n",
            "Total params: 429769 (1.64 MB)\n",
            "Trainable params: 429641 (1.64 MB)\n",
            "Non-trainable params: 128 (512.00 Byte)\n",
            "_________________________________________________________________\n"
          ]
        }
      ],
      "source": [
        "# Manually assign class weights\n",
        "class_weights = {0: 1.0, 1: 15.0}\n",
        "\n",
        "model = models.Sequential()\n",
        "model.add(layers.Reshape((13, 10, 1), input_shape=(130,)))\n",
        "model.add(layers.Conv2D(64, (2, 3), activation=leaky_relu))\n",
        "model.add(layers.BatchNormalization())\n",
        "model.add(layers.Conv2D(32, (2, 3), activation='sigmoid', padding='same'))\n",
        "model.add(layers.Conv2D(32, (2, 3), activation='relu', padding='same'))\n",
        "model.add(layers.Conv2D(32, (2, 3), activation='relu', padding='same'))\n",
        "model.add(layers.Flatten())\n",
        "model.add(layers.Dense(128, activation='relu'))\n",
        "model.add(layers.Dense(64, activation='relu'))\n",
        "model.add(layers.Dense(32, activation='relu'))\n",
        "model.add(layers.Dense(16, activation='relu'))\n",
        "model.add(layers.Dense(8, activation='relu'))\n",
        "model.add(layers.Dense(4, activation='relu'))\n",
        "model.add(layers.Dense(2, activation='relu'))\n",
        "model.add(layers.Dense(1, activation='sigmoid'))\n",
        "\n",
        "model.compile(optimizer='adam',\n",
        "              loss='binary_crossentropy',\n",
        "              metrics=['accuracy'])\n",
        "\n",
        "model.summary()\n"
      ]
    },
    {
      "cell_type": "code",
      "execution_count": null,
      "metadata": {
        "id": "O3ge5Er2X1C8",
        "colab": {
          "base_uri": "https://localhost:8080/"
        },
        "outputId": "300e5b78-1f84-41b2-b867-8dd09203ba89"
      },
      "outputs": [
        {
          "output_type": "stream",
          "name": "stdout",
          "text": [
            "Epoch 1/10\n",
            "1240/1240 [==============================] - 13s 7ms/step - loss: 0.2387 - accuracy: 0.9980 - val_loss: 0.0095 - val_accuracy: 0.9989\n",
            "Epoch 2/10\n",
            "1240/1240 [==============================] - 11s 9ms/step - loss: 0.0859 - accuracy: 0.9985 - val_loss: 0.0058 - val_accuracy: 0.9995\n",
            "Epoch 3/10\n",
            "1240/1240 [==============================] - 11s 9ms/step - loss: 0.1234 - accuracy: 0.9979 - val_loss: 0.0051 - val_accuracy: 0.9992\n",
            "Epoch 4/10\n",
            "1240/1240 [==============================] - 9s 7ms/step - loss: 0.0657 - accuracy: 0.9976 - val_loss: 0.0177 - val_accuracy: 0.9960\n",
            "Epoch 5/10\n",
            "1240/1240 [==============================] - 12s 9ms/step - loss: 0.0559 - accuracy: 0.9974 - val_loss: 0.0194 - val_accuracy: 0.9966\n",
            "Epoch 6/10\n",
            "1240/1240 [==============================] - 11s 9ms/step - loss: 0.0472 - accuracy: 0.9963 - val_loss: 0.0062 - val_accuracy: 0.9988\n",
            "Epoch 7/10\n",
            "1240/1240 [==============================] - 9s 7ms/step - loss: 0.0581 - accuracy: 0.9958 - val_loss: 0.0815 - val_accuracy: 0.9895\n",
            "Epoch 8/10\n",
            "1240/1240 [==============================] - 11s 9ms/step - loss: 0.0400 - accuracy: 0.9971 - val_loss: 0.0304 - val_accuracy: 0.9905\n",
            "Epoch 9/10\n",
            "1240/1240 [==============================] - 9s 8ms/step - loss: 0.0466 - accuracy: 0.9960 - val_loss: 0.0095 - val_accuracy: 0.9971\n",
            "Epoch 10/10\n",
            "1240/1240 [==============================] - 11s 9ms/step - loss: 0.0417 - accuracy: 0.9971 - val_loss: 0.0077 - val_accuracy: 0.9985\n"
          ]
        }
      ],
      "source": [
        "history = model.fit(X_train, y_train, epochs=10, batch_size=32, validation_data=(X_test, y_test), class_weight=class_weights)"
      ]
    },
    {
      "cell_type": "code",
      "execution_count": null,
      "metadata": {
        "id": "pPFXOuU9YTjE",
        "colab": {
          "base_uri": "https://localhost:8080/"
        },
        "outputId": "fd057c3e-7a22-481d-a218-8cc5d02f95b2"
      },
      "outputs": [
        {
          "output_type": "stream",
          "name": "stdout",
          "text": [
            "310/310 [==============================] - 1s 2ms/step\n",
            "Accuracy: 0.9984875983061101\n",
            "Precision: 0.375\n",
            "Recall: 0.5454545454545454\n",
            "F1 Score: 0.4444444444444444\n",
            "Confusion Matrix:\n",
            " [[9897   10]\n",
            " [   5    6]]\n"
          ]
        }
      ],
      "source": [
        "from sklearn.metrics import accuracy_score, precision_score, recall_score, f1_score, confusion_matrix\n",
        "\n",
        "y_pred = model.predict(X_test)\n",
        "y_pred_binary = (y_pred > 0.5).astype(int)\n",
        "\n",
        "accuracy = accuracy_score(y_test, y_pred_binary)\n",
        "precision = precision_score(y_test, y_pred_binary)\n",
        "recall = recall_score(y_test, y_pred_binary)\n",
        "f1 = f1_score(y_test, y_pred_binary)\n",
        "conf_matrix = confusion_matrix(y_test, y_pred_binary)\n",
        "\n",
        "print(\"Accuracy:\", accuracy)\n",
        "print(\"Precision:\", precision)\n",
        "print(\"Recall:\", recall)\n",
        "print(\"F1 Score:\", f1)\n",
        "print(\"Confusion Matrix:\\n\", conf_matrix)"
      ]
    },
    {
      "cell_type": "code",
      "execution_count": null,
      "metadata": {
        "id": "eKvZqmPgYV3L",
        "colab": {
          "base_uri": "https://localhost:8080/",
          "height": 564
        },
        "outputId": "7e975d67-4813-4d2e-8308-8c95c3c1d251"
      },
      "outputs": [
        {
          "output_type": "display_data",
          "data": {
            "text/plain": [
              "<Figure size 800x600 with 1 Axes>"
            ],
            "image/png": "[encoded data removed]"
          },
          "metadata": {}
        }
      ],
      "source": [
        "from sklearn.metrics import roc_curve, roc_auc_score\n",
        "import matplotlib.pyplot as plt\n",
        "\n",
        "# Calculate ROC curve\n",
        "fpr, tpr, thresholds = roc_curve(y_test, y_pred)\n",
        "\n",
        "# Calculate AUC\n",
        "auc = roc_auc_score(y_test, y_pred)\n",
        "\n",
        "# Plot ROC curve\n",
        "plt.figure(figsize=(8, 6))\n",
        "plt.plot(fpr, tpr, label='ROC curve (area = %0.2f)' % auc)\n",
        "plt.plot([0, 1], [0, 1], 'k--')  # Plot random curve\n",
        "plt.xlim([0.0, 1.0])\n",
        "plt.ylim([0.0, 1.05])\n",
        "plt.xlabel('False Positive Rate')\n",
        "plt.ylabel('True Positive Rate')\n",
        "plt.title('ROC Curve')\n",
        "plt.legend(loc=\"lower right\")\n",
        "plt.show()"
      ]
    },
    {
      "cell_type": "code",
      "execution_count": null,
      "metadata": {
        "id": "8eO41fIqYXpq",
        "colab": {
          "base_uri": "https://localhost:8080/"
        },
        "outputId": "2b65d3ee-640b-4698-ec65-486051c6c8a7"
      },
      "outputs": [
        {
          "output_type": "stream",
          "name": "stdout",
          "text": [
            "310/310 [==============================] - 1s 3ms/step - loss: 0.0077 - accuracy: 0.9985\n",
            "Test Accuracy: 0.9984875917434692\n"
          ]
        }
      ],
      "source": [
        "test_loss, test_accuracy = model.evaluate(X_test, y_test)\n",
        "\n",
        "print(\"Test Accuracy:\", test_accuracy)"
      ]
    },
    {
      "cell_type": "markdown",
      "source": [
        "#Fading Data"
      ],
      "metadata": {
        "id": "B9xAe7jst8uF"
      }
    },
    {
      "cell_type": "code",
      "source": [
        "fadingData = pd.read_csv('/content/FadingData.csv', header = None)"
      ],
      "metadata": {
        "id": "YlkSLBxbt_WR"
      },
      "execution_count": null,
      "outputs": []
    },
    {
      "cell_type": "code",
      "source": [
        "fadingLabels - pd.read_csv('/content/FadingLabels.csv', header = None)"
      ],
      "metadata": {
        "id": "SFumYtg9v8uW"
      },
      "execution_count": null,
      "outputs": []
    },
    {
      "cell_type": "code",
      "source": [
        "fadingData"
      ],
      "metadata": {
        "id": "pMs-jZu3wGu0"
      },
      "execution_count": null,
      "outputs": []
    }
  ],
  "metadata": {
    "accelerator": "GPU",
    "colab": {
      "gpuType": "T4",
      "provenance": [],
      "collapsed_sections": [
        "0LiMcdEQjdyg",
        "rmEmIjBrjgJ8",
        "z-7o9KcfXcOM",
        "jDwOPr9wXYal"
      ]
    },
    "kernelspec": {
      "display_name": "Python 3",
      "name": "python3"
    },
    "language_info": {
      "name": "python"
    }
  },
  "nbformat": 4,
  "nbformat_minor": 0
}